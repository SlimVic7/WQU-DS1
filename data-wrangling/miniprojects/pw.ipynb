{
 "cells": [
  {
   "cell_type": "code",
   "execution_count": 125,
   "metadata": {
    "init_cell": true
   },
   "outputs": [],
   "source": [
    "%logstop\n",
    "%logstart -ortq ~/.logs/pw.py append\n",
    "%matplotlib inline\n",
    "import matplotlib\n",
    "import seaborn as sns\n",
    "sns.set()\n",
    "matplotlib.rcParams['figure.dpi'] = 144"
   ]
  },
  {
   "cell_type": "code",
   "execution_count": 98,
   "metadata": {},
   "outputs": [],
   "source": [
    "from static_grader import grader"
   ]
  },
  {
   "cell_type": "markdown",
   "metadata": {},
   "source": [
    "# PW Miniproject\n",
    "## Introduction\n",
    "\n",
    "The objective of this miniproject is to exercise your ability to use basic Python data structures, define functions, and control program flow. We will be using these concepts to perform some fundamental data wrangling tasks such as joining data sets together, splitting data into groups, and aggregating data into summary statistics.\n",
    "**Please do not use `pandas` or `numpy` to answer these questions.**\n",
    "\n",
    "We will be working with medical data from the British NHS on prescription drugs. Since this is real data, it contains many ambiguities that we will need to confront in our analysis. This is commonplace in data science, and is one of the lessons you will learn in this miniproject."
   ]
  },
  {
   "cell_type": "markdown",
   "metadata": {},
   "source": [
    "## Downloading the data\n",
    "\n",
    "We first need to download the data we'll be using from Amazon S3:"
   ]
  },
  {
   "cell_type": "code",
   "execution_count": 99,
   "metadata": {},
   "outputs": [
    {
     "name": "stderr",
     "output_type": "stream",
     "text": [
      "mkdir: cannot create directory ‘pw-data’: File exists\n",
      "File ‘./pw-data/201701scripts_sample.json.gz’ already there; not retrieving.\n",
      "\n",
      "File ‘./pw-data/practices.json.gz’ already there; not retrieving.\n",
      "\n"
     ]
    }
   ],
   "source": [
    "%%bash\n",
    "mkdir pw-data\n",
    "wget http://dataincubator-wqu.s3.amazonaws.com/pwdata/201701scripts_sample.json.gz -nc -P ./pw-data\n",
    "wget http://dataincubator-wqu.s3.amazonaws.com/pwdata/practices.json.gz -nc -P ./pw-data"
   ]
  },
  {
   "cell_type": "markdown",
   "metadata": {},
   "source": [
    "## Loading the data\n",
    "\n",
    "The first step of the project is to read in the data. We will discuss reading and writing various kinds of files later in the course, but the code below should get you started."
   ]
  },
  {
   "cell_type": "code",
   "execution_count": 100,
   "metadata": {},
   "outputs": [],
   "source": [
    "import gzip\n",
    "import simplejson as json"
   ]
  },
  {
   "cell_type": "code",
   "execution_count": 101,
   "metadata": {},
   "outputs": [],
   "source": [
    "with gzip.open('./pw-data/201701scripts_sample.json.gz', 'rb') as f:\n",
    "    scripts = json.load(f)\n",
    "\n",
    "with gzip.open('./pw-data/practices.json.gz', 'rb') as f:\n",
    "    practices = json.load(f)"
   ]
  },
  {
   "cell_type": "markdown",
   "metadata": {},
   "source": [
    "This data set comes from Britain's National Health Service. The `scripts` variable is a list of prescriptions issued by NHS doctors. Each prescription is represented by a dictionary with various data fields: `'practice'`, `'bnf_code'`, `'bnf_name'`, `'quantity'`, `'items'`, `'nic'`, and `'act_cost'`. "
   ]
  },
  {
   "cell_type": "code",
   "execution_count": 104,
   "metadata": {},
   "outputs": [
    {
     "data": {
      "text/plain": [
       "[{'bnf_code': '0101010G0AAABAB',\n",
       "  'items': 2,\n",
       "  'practice': 'N81013',\n",
       "  'bnf_name': 'Co-Magaldrox_Susp 195mg/220mg/5ml S/F',\n",
       "  'nic': 5.98,\n",
       "  'act_cost': 5.56,\n",
       "  'quantity': 1000},\n",
       " {'bnf_code': '0101021B0AAAHAH',\n",
       "  'items': 1,\n",
       "  'practice': 'N81013',\n",
       "  'bnf_name': 'Alginate_Raft-Forming Oral Susp S/F',\n",
       "  'nic': 1.95,\n",
       "  'act_cost': 1.82,\n",
       "  'quantity': 500}]"
      ]
     },
     "execution_count": 104,
     "metadata": {},
     "output_type": "execute_result"
    }
   ],
   "source": [
    "scripts[:2]"
   ]
  },
  {
   "cell_type": "markdown",
   "metadata": {},
   "source": [
    "A [glossary of terms](http://webarchive.nationalarchives.gov.uk/20180328130852tf_/http://content.digital.nhs.uk/media/10686/Download-glossary-of-terms-for-GP-prescribing---presentation-level/pdf/PLP_Presentation_Level_Glossary_April_2015.pdf/) and [FAQ](http://webarchive.nationalarchives.gov.uk/20180328130852tf_/http://content.digital.nhs.uk/media/10048/FAQs-Practice-Level-Prescribingpdf/pdf/PLP_FAQs_April_2015.pdf/) is available from the NHS regarding the data. Below we supply a data dictionary briefly describing what these fields mean.\n",
    "\n",
    "| Data field |Description|\n",
    "|:----------:|-----------|\n",
    "|`'practice'`|Code designating the medical practice issuing the prescription|\n",
    "|`'bnf_code'`|British National Formulary drug code|\n",
    "|`'bnf_name'`|British National Formulary drug name|\n",
    "|`'quantity'`|Number of capsules/quantity of liquid/grams of powder prescribed|\n",
    "| `'items'`  |Number of refills (e.g. if `'quantity'` is 30 capsules, 3 `'items'` means 3 bottles of 30 capsules)|\n",
    "|  `'nic'`   |Net ingredient cost|\n",
    "|`'act_cost'`|Total cost including containers, fees, and discounts|"
   ]
  },
  {
   "cell_type": "markdown",
   "metadata": {},
   "source": [
    "The `practices` variable is a list of member medical practices of the NHS. Each practice is represented by a dictionary containing identifying information for the medical practice. Most of the data fields are self-explanatory. Notice the values in the `'code'` field of `practices` match the values in the `'practice'` field of `scripts`."
   ]
  },
  {
   "cell_type": "code",
   "execution_count": 105,
   "metadata": {},
   "outputs": [
    {
     "data": {
      "text/plain": [
       "[{'code': 'A81001',\n",
       "  'name': 'THE DENSHAM SURGERY',\n",
       "  'addr_1': 'THE HEALTH CENTRE',\n",
       "  'addr_2': 'LAWSON STREET',\n",
       "  'borough': 'STOCKTON ON TEES',\n",
       "  'village': 'CLEVELAND',\n",
       "  'post_code': 'TS18 1HU'},\n",
       " {'code': 'A81002',\n",
       "  'name': 'QUEENS PARK MEDICAL CENTRE',\n",
       "  'addr_1': 'QUEENS PARK MEDICAL CTR',\n",
       "  'addr_2': 'FARRER STREET',\n",
       "  'borough': 'STOCKTON ON TEES',\n",
       "  'village': 'CLEVELAND',\n",
       "  'post_code': 'TS18 2AW'}]"
      ]
     },
     "execution_count": 105,
     "metadata": {},
     "output_type": "execute_result"
    }
   ],
   "source": [
    "practices[:2]"
   ]
  },
  {
   "cell_type": "markdown",
   "metadata": {},
   "source": [
    "In the following questions we will ask you to explore this data set. You may need to combine pieces of the data set together in order to answer some questions. Not every element of the data set will be used in answering the questions."
   ]
  },
  {
   "cell_type": "markdown",
   "metadata": {},
   "source": [
    "## Question 1: summary_statistics\n",
    "\n",
    "Our beneficiary data (`scripts`) contains quantitative data on the number of items dispensed (`'items'`), the total quantity of item dispensed (`'quantity'`), the net cost of the ingredients (`'nic'`), and the actual cost to the patient (`'act_cost'`). Whenever working with a new data set, it can be useful to calculate summary statistics to develop a feeling for the volume and character of the data. This makes it easier to spot trends and significant features during further stages of analysis.\n",
    "\n",
    "Calculate the sum, mean, standard deviation, and quartile statistics for each of these quantities. Format your results for each quantity as a list: `[sum, mean, standard deviation, 1st quartile, median, 3rd quartile]`. We'll create a `tuple` with these lists for each quantity as a final result."
   ]
  },
  {
   "cell_type": "code",
   "execution_count": 106,
   "metadata": {},
   "outputs": [],
   "source": [
    "\n",
    "def describe(data, key):\n",
    "    N = len(scripts)\n",
    "    total = sum([script[key] for script in scripts])\n",
    "    avg = total / N\n",
    "    var = sum([(script[key] - avg)** 2 for script in scripts]) / N - 1\n",
    "    s = var ** 0.5\n",
    "    \n",
    "    vals = sorted([script[key] for script in scripts])\n",
    "    q25 = vals[N // 4]\n",
    "    med = vals[N // 2]\n",
    "    q75 = vals[-N // 4]\n",
    "\n",
    "    return (total, avg, s, q25, med, q75)"
   ]
  },
  {
   "cell_type": "code",
   "execution_count": 107,
   "metadata": {},
   "outputs": [],
   "source": [
    "summary = [('items', describe(scripts, 'items')),\n",
    "           ('quantity', describe(scripts, 'quantity')),\n",
    "           ('nic', describe(scripts, 'nic')),\n",
    "           ('act_cost', describe(scripts, 'act_cost'))]"
   ]
  },
  {
   "cell_type": "code",
   "execution_count": 108,
   "metadata": {},
   "outputs": [
    {
     "name": "stdout",
     "output_type": "stream",
     "text": [
      "==================\n",
      "Your score: 1.000\n",
      "==================\n"
     ]
    }
   ],
   "source": [
    "grader.score.pw__summary_statistics(summary)"
   ]
  },
  {
   "cell_type": "markdown",
   "metadata": {},
   "source": [
    "## Question 2: most_common_item\n",
    "\n",
    "Often we are not interested only in how the data is distributed in our entire data set, but within particular groups -- for example, how many items of each drug (i.e. `'bnf_name'`) were prescribed? Calculate the total items prescribed for each `'bnf_name'`. What is the most commonly prescribed `'bnf_name'` in our data?\n",
    "\n",
    "To calculate this, we first need to split our data set into groups corresponding with the different values of `'bnf_name'`. Then we can sum the number of items dispensed within in each group. Finally we can find the largest sum.\n",
    "\n",
    "We'll use `'bnf_name'` to construct our groups. You should have *5619* unique values for `'bnf_name'`."
   ]
  },
  {
   "cell_type": "code",
   "execution_count": 109,
   "metadata": {},
   "outputs": [],
   "source": [
    "bnf_names = list({item['bnf_name'] for item in scripts})\n",
    "assert(len(bnf_names) == 5619)"
   ]
  },
  {
   "cell_type": "markdown",
   "metadata": {},
   "source": [
    "We want to construct \"groups\" identified by `'bnf_name'`, where each group is a collection of prescriptions (i.e. dictionaries from `scripts`). We'll construct a dictionary called `groups`, using `bnf_names` as the keys. We'll represent a group with a `list`, since we can easily append new members to the group. To split our `scripts` into groups by `'bnf_name'`, we should iterate over `scripts`, appending prescription dictionaries to each group as we encounter them."
   ]
  },
  {
   "cell_type": "code",
   "execution_count": 110,
   "metadata": {},
   "outputs": [],
   "source": [
    "groups = {name: [] for name in bnf_names}\n",
    "for script in scripts:\n",
    "    groups[script['bnf_name']].append(script)"
   ]
  },
  {
   "cell_type": "markdown",
   "metadata": {},
   "source": [
    "Now that we've constructed our groups we should sum up `'items'` in each group and find the `'bnf_name'` with the largest sum. The result, `max_item`, should have the form `[(bnf_name, item total)]`, e.g. `[('Foobar', 2000)]`."
   ]
  },
  {
   "cell_type": "code",
   "execution_count": 45,
   "metadata": {},
   "outputs": [
    {
     "data": {
      "text/plain": [
       "[{'bnf_code': '0302000K0BDADBB',\n",
       "  'items': 1,\n",
       "  'practice': 'A81017',\n",
       "  'bnf_name': 'Symbicort_Inh Pressurised 200/6mcg(120D)',\n",
       "  'nic': 28.0,\n",
       "  'act_cost': 25.93,\n",
       "  'quantity': 1,\n",
       "  'post_code': 'TS17 0EE'},\n",
       " {'bnf_code': '0302000K0BDADBB',\n",
       "  'items': 3,\n",
       "  'practice': 'A81034',\n",
       "  'bnf_name': 'Symbicort_Inh Pressurised 200/6mcg(120D)',\n",
       "  'nic': 84.0,\n",
       "  'act_cost': 77.79,\n",
       "  'quantity': 3,\n",
       "  'post_code': 'TS17 0EE'},\n",
       " {'bnf_code': '0302000K0BDADBB',\n",
       "  'items': 1,\n",
       "  'practice': 'P92005',\n",
       "  'bnf_name': 'Symbicort_Inh Pressurised 200/6mcg(120D)',\n",
       "  'nic': 28.0,\n",
       "  'act_cost': 25.93,\n",
       "  'quantity': 1,\n",
       "  'post_code': 'WN3 5HL'},\n",
       " {'bnf_code': '0302000K0BDADBB',\n",
       "  'items': 4,\n",
       "  'practice': 'P92642',\n",
       "  'bnf_name': 'Symbicort_Inh Pressurised 200/6mcg(120D)',\n",
       "  'nic': 196.0,\n",
       "  'act_cost': 181.48,\n",
       "  'quantity': 7,\n",
       "  'post_code': 'WN3 5HL'},\n",
       " {'bnf_code': '0302000K0BDADBB',\n",
       "  'items': 1,\n",
       "  'practice': 'M88038',\n",
       "  'bnf_name': 'Symbicort_Inh Pressurised 200/6mcg(120D)',\n",
       "  'nic': 28.0,\n",
       "  'act_cost': 25.93,\n",
       "  'quantity': 1,\n",
       "  'post_code': 'B70 7AW'},\n",
       " {'bnf_code': '0302000K0BDADBB',\n",
       "  'items': 1,\n",
       "  'practice': 'M88619',\n",
       "  'bnf_name': 'Symbicort_Inh Pressurised 200/6mcg(120D)',\n",
       "  'nic': 28.0,\n",
       "  'act_cost': 25.93,\n",
       "  'quantity': 1,\n",
       "  'post_code': 'B70 7AW'},\n",
       " {'bnf_code': '0302000K0BDADBB',\n",
       "  'items': 1,\n",
       "  'practice': 'C84103',\n",
       "  'bnf_name': 'Symbicort_Inh Pressurised 200/6mcg(120D)',\n",
       "  'nic': 28.0,\n",
       "  'act_cost': 25.93,\n",
       "  'quantity': 1,\n",
       "  'post_code': 'NG7 5HY'},\n",
       " {'bnf_code': '0302000K0BDADBB',\n",
       "  'items': 3,\n",
       "  'practice': 'C84691',\n",
       "  'bnf_name': 'Symbicort_Inh Pressurised 200/6mcg(120D)',\n",
       "  'nic': 84.0,\n",
       "  'act_cost': 77.8,\n",
       "  'quantity': 3,\n",
       "  'post_code': 'NG7 5HY'},\n",
       " {'bnf_code': '0302000K0BDADBB',\n",
       "  'items': 1,\n",
       "  'practice': 'C82047',\n",
       "  'bnf_name': 'Symbicort_Inh Pressurised 200/6mcg(120D)',\n",
       "  'nic': 28.0,\n",
       "  'act_cost': 25.93,\n",
       "  'quantity': 1,\n",
       "  'post_code': 'LE10 1DS'},\n",
       " {'bnf_code': '0302000K0BDADBB',\n",
       "  'items': 1,\n",
       "  'practice': 'C82082',\n",
       "  'bnf_name': 'Symbicort_Inh Pressurised 200/6mcg(120D)',\n",
       "  'nic': 28.0,\n",
       "  'act_cost': 25.93,\n",
       "  'quantity': 1,\n",
       "  'post_code': 'LE10 1DS'}]"
      ]
     },
     "execution_count": 45,
     "metadata": {},
     "output_type": "execute_result"
    }
   ],
   "source": [
    "groups['Symbicort_Inh Pressurised 200/6mcg(120D)']"
   ]
  },
  {
   "cell_type": "code",
   "execution_count": 56,
   "metadata": {},
   "outputs": [],
   "source": [
    "item_total = []\n",
    "for key in groups:\n",
    "    sum_ = 0\n",
    "    for item in groups[key]:\n",
    "        sum_ += item['items']\n",
    "    item_total.append((key,sum_))"
   ]
  },
  {
   "cell_type": "code",
   "execution_count": 57,
   "metadata": {},
   "outputs": [
    {
     "data": {
      "text/plain": [
       "[('Dorzolamide/Timolol_Eye Dps 2%/0.5%', 1592),\n",
       " ('Co-Trimoxazole_Oral Susp 40/200mg/5mlS/F', 43)]"
      ]
     },
     "execution_count": 57,
     "metadata": {},
     "output_type": "execute_result"
    }
   ],
   "source": [
    "item_total[:2]"
   ]
  },
  {
   "cell_type": "code",
   "execution_count": 59,
   "metadata": {},
   "outputs": [],
   "source": [
    "max_item = [max(item_total, key=lambda x: x[1])]"
   ]
  },
  {
   "cell_type": "code",
   "execution_count": 60,
   "metadata": {},
   "outputs": [
    {
     "data": {
      "text/plain": [
       "[('Omeprazole_Cap E/C 20mg', 113826)]"
      ]
     },
     "execution_count": 60,
     "metadata": {},
     "output_type": "execute_result"
    }
   ],
   "source": [
    "max_item"
   ]
  },
  {
   "cell_type": "markdown",
   "metadata": {},
   "source": [
    "**TIP:** If you are getting an error from the grader below, please make sure your answer conforms to the correct format of `[(bnf_name, item total)]`."
   ]
  },
  {
   "cell_type": "code",
   "execution_count": 64,
   "metadata": {},
   "outputs": [
    {
     "name": "stdout",
     "output_type": "stream",
     "text": [
      "==================\n",
      "Your score: 1.000\n",
      "==================\n"
     ]
    }
   ],
   "source": [
    "grader.score.pw__most_common_item(max_item)"
   ]
  },
  {
   "cell_type": "markdown",
   "metadata": {},
   "source": [
    "**Challenge:** Write a function that constructs groups as we did above. The function should accept a list of dictionaries (e.g. `scripts` or `practices`) and a tuple of fields to `groupby` (e.g. `('bnf_name',)` or `('bnf_name', 'post_code')`) and returns a dictionary of groups. The following questions will require you to aggregate data in groups, so this could be a useful function for the rest of the miniproject."
   ]
  },
  {
   "cell_type": "code",
   "execution_count": 66,
   "metadata": {},
   "outputs": [],
   "source": [
    "bnf_names = {d['bnf_name'] for d in scripts}\n",
    "\n",
    "groups = {name: [] for name in bnf_names}\n",
    "\n",
    "for script in scripts:\n",
    "    groups[script['bnf_name']].append(script)"
   ]
  },
  {
   "cell_type": "code",
   "execution_count": 68,
   "metadata": {},
   "outputs": [],
   "source": [
    "def group_by_field(data, fields):\n",
    "    names = {tuple(d[field] for field in fields) for d in data}\n",
    "    \n",
    "    groups = {name: [] for name in names}\n",
    "    \n",
    "    for item in data:\n",
    "        key = tuple(item[field] for field in fields)\n",
    "        groups[key].append(item)\n",
    "        \n",
    "    return groups"
   ]
  },
  {
   "cell_type": "code",
   "execution_count": 69,
   "metadata": {},
   "outputs": [
    {
     "name": "stdout",
     "output_type": "stream",
     "text": [
      "('Dorzolamide/Timolol_Eye Dps 2%/0.5%', [{'bnf_code': '1106000ABAAAAAA', 'items': 5, 'practice': 'N81013', 'bnf_name': 'Dorzolamide/Timolol_Eye Dps 2%/0.5%', 'nic': 23.53, 'act_cost': 21.85, 'quantity': 65, 'post_code': 'SK11 6JL'}, {'bnf_code': '1106000ABAAAAAA', 'items': 13, 'practice': 'N81029', 'bnf_name': 'Dorzolamide/Timolol_Eye Dps 2%/0.5%', 'nic': 47.06, 'act_cost': 43.73, 'quantity': 130, 'post_code': 'SK11 6JL'}, {'bnf_code': '1106000ABAAAAAA', 'items': 2, 'practice': 'N81062', 'bnf_name': 'Dorzolamide/Timolol_Eye Dps 2%/0.5%', 'nic': 3.62, 'act_cost': 3.38, 'quantity': 10, 'post_code': 'SK11 6JL'}, {'bnf_code': '1106000ABAAAAAA', 'items': 5, 'practice': 'N81085', 'bnf_name': 'Dorzolamide/Timolol_Eye Dps 2%/0.5%', 'nic': 9.05, 'act_cost': 8.44, 'quantity': 25, 'post_code': 'SK11 6JL'}, {'bnf_code': '1106000ABAAAAAA', 'items': 8, 'practice': 'N81088', 'bnf_name': 'Dorzolamide/Timolol_Eye Dps 2%/0.5%', 'nic': 19.91, 'act_cost': 18.52, 'quantity': 55, 'post_code': 'SK11 6JL'}, {'bnf_code': '1106000ABAAAAAA', 'items': 5, 'practice': 'N81010', 'bnf_name': 'Dorzolamide/Timolol_Eye Dps 2%/0.5%', 'nic': 16.29, 'act_cost': 15.15, 'quantity': 45, 'post_code': 'CW5 5NX'}, {'bnf_code': '1106000ABAAAAAA', 'items': 7, 'practice': 'N81015', 'bnf_name': 'Dorzolamide/Timolol_Eye Dps 2%/0.5%', 'nic': 19.91, 'act_cost': 18.52, 'quantity': 55, 'post_code': 'CW1 3AW'}, {'bnf_code': '1106000ABAAAAAA', 'items': 5, 'practice': 'N81016', 'bnf_name': 'Dorzolamide/Timolol_Eye Dps 2%/0.5%', 'nic': 12.67, 'act_cost': 11.79, 'quantity': 35, 'post_code': 'CW1 3AW'}, {'bnf_code': '1106000ABAAAAAA', 'items': 7, 'practice': 'N81047', 'bnf_name': 'Dorzolamide/Timolol_Eye Dps 2%/0.5%', 'nic': 19.91, 'act_cost': 18.53, 'quantity': 55, 'post_code': 'CW5 5NX'}, {'bnf_code': '1106000ABAAAAAA', 'items': 6, 'practice': 'N81053', 'bnf_name': 'Dorzolamide/Timolol_Eye Dps 2%/0.5%', 'nic': 12.67, 'act_cost': 11.8, 'quantity': 35, 'post_code': 'CW1 3AW'}, {'bnf_code': '1106000ABAAAAAA', 'items': 6, 'practice': 'N81090', 'bnf_name': 'Dorzolamide/Timolol_Eye Dps 2%/0.5%', 'nic': 10.86, 'act_cost': 10.13, 'quantity': 30, 'post_code': 'CW5 5NX'}, {'bnf_code': '1106000ABAAAAAA', 'items': 3, 'practice': 'N81024', 'bnf_name': 'Dorzolamide/Timolol_Eye Dps 2%/0.5%', 'nic': 9.05, 'act_cost': 8.41, 'quantity': 25, 'post_code': 'CW7 1AT'}, {'bnf_code': '1106000ABAAAAAA', 'items': 1, 'practice': 'N81040', 'bnf_name': 'Dorzolamide/Timolol_Eye Dps 2%/0.5%', 'nic': 1.81, 'act_cost': 1.69, 'quantity': 5, 'post_code': 'CW7 1AT'}, {'bnf_code': '1106000ABAAAAAA', 'items': 7, 'practice': 'N81127', 'bnf_name': 'Dorzolamide/Timolol_Eye Dps 2%/0.5%', 'nic': 14.48, 'act_cost': 13.48, 'quantity': 40, 'post_code': 'CW7 1AT'}, {'bnf_code': '1106000ABAAAAAA', 'items': 3, 'practice': 'N81023', 'bnf_name': 'Dorzolamide/Timolol_Eye Dps 2%/0.5%', 'nic': 7.24, 'act_cost': 6.74, 'quantity': 20, 'post_code': 'CH65 6TG'}, {'bnf_code': '1106000ABAAAAAA', 'items': 3, 'practice': 'N81079', 'bnf_name': 'Dorzolamide/Timolol_Eye Dps 2%/0.5%', 'nic': 7.24, 'act_cost': 6.74, 'quantity': 20, 'post_code': 'CH1 4DS'}, {'bnf_code': '1106000ABAAAAAA', 'items': 3, 'practice': 'N81080', 'bnf_name': 'Dorzolamide/Timolol_Eye Dps 2%/0.5%', 'nic': 10.86, 'act_cost': 10.08, 'quantity': 30, 'post_code': 'CH1 4DS'}, {'bnf_code': '1106000ABAAAAAA', 'items': 2, 'practice': 'N81091', 'bnf_name': 'Dorzolamide/Timolol_Eye Dps 2%/0.5%', 'nic': 45.25, 'act_cost': 41.92, 'quantity': 125, 'post_code': 'CH65 6TG'}, {'bnf_code': '1106000ABAAAAAA', 'items': 1, 'practice': 'N81093', 'bnf_name': 'Dorzolamide/Timolol_Eye Dps 2%/0.5%', 'nic': 1.81, 'act_cost': 1.69, 'quantity': 5, 'post_code': 'CH65 6TG'}, {'bnf_code': '1106000ABAAAAAA', 'items': 2, 'practice': 'N81102', 'bnf_name': 'Dorzolamide/Timolol_Eye Dps 2%/0.5%', 'nic': 3.62, 'act_cost': 3.38, 'quantity': 10, 'post_code': 'CH1 4DS'}, {'bnf_code': '1106000ABAAAAAA', 'items': 1, 'practice': 'N81121', 'bnf_name': 'Dorzolamide/Timolol_Eye Dps 2%/0.5%', 'nic': 1.81, 'act_cost': 1.69, 'quantity': 5, 'post_code': 'CH1 4DS'}, {'bnf_code': '1106000ABAAAAAA', 'items': 5, 'practice': 'A81007', 'bnf_name': 'Dorzolamide/Timolol_Eye Dps 2%/0.5%', 'nic': 14.48, 'act_cost': 13.47, 'quantity': 40, 'post_code': 'TS24 7PW'}, {'bnf_code': '1106000ABAAAAAA', 'items': 5, 'practice': 'A81011', 'bnf_name': 'Dorzolamide/Timolol_Eye Dps 2%/0.5%', 'nic': 21.72, 'act_cost': 20.16, 'quantity': 60, 'post_code': 'TS24 7PW'}, {'bnf_code': '1106000ABAAAAAA', 'items': 14, 'practice': 'A81017', 'bnf_name': 'Dorzolamide/Timolol_Eye Dps 2%/0.5%', 'nic': 32.8, 'act_cost': 30.54, 'quantity': 90, 'post_code': 'TS17 0EE'}, {'bnf_code': '1106000ABAAAAAA', 'items': 6, 'practice': 'A81031', 'bnf_name': 'Dorzolamide/Timolol_Eye Dps 2%/0.5%', 'nic': 16.29, 'act_cost': 15.15, 'quantity': 45, 'post_code': 'TS24 7PW'}, {'bnf_code': '1106000ABAAAAAA', 'items': 11, 'practice': 'A81034', 'bnf_name': 'Dorzolamide/Timolol_Eye Dps 2%/0.5%', 'nic': 32.84, 'act_cost': 30.54, 'quantity': 90, 'post_code': 'TS17 0EE'}, {'bnf_code': '1106000ABAAAAAA', 'items': 3, 'practice': 'A81602', 'bnf_name': 'Dorzolamide/Timolol_Eye Dps 2%/0.5%', 'nic': 10.86, 'act_cost': 10.09, 'quantity': 30, 'post_code': 'TS23 2DG'}, {'bnf_code': '1106000ABAAAAAA', 'items': 8, 'practice': 'A81610', 'bnf_name': 'Dorzolamide/Timolol_Eye Dps 2%/0.5%', 'nic': 25.34, 'act_cost': 23.55, 'quantity': 70, 'post_code': 'TS23 2DG'}, {'bnf_code': '1106000ABAAAAAA', 'items': 2, 'practice': 'A81012', 'bnf_name': 'Dorzolamide/Timolol_Eye Dps 2%/0.5%', 'nic': 9.05, 'act_cost': 8.4, 'quantity': 25, 'post_code': 'TS3 6AL'}, {'bnf_code': '1106000ABAAAAAA', 'items': 7, 'practice': 'A81018', 'bnf_name': 'Dorzolamide/Timolol_Eye Dps 2%/0.5%', 'nic': 16.29, 'act_cost': 15.17, 'quantity': 45, 'post_code': 'TS10 4NW'}, {'bnf_code': '1106000ABAAAAAA', 'items': 4, 'practice': 'A81023', 'bnf_name': 'Dorzolamide/Timolol_Eye Dps 2%/0.5%', 'nic': 19.91, 'act_cost': 18.48, 'quantity': 55, 'post_code': 'TS1 2NX'}, {'bnf_code': '1106000ABAAAAAA', 'items': 7, 'practice': 'A81029', 'bnf_name': 'Dorzolamide/Timolol_Eye Dps 2%/0.5%', 'nic': 16.29, 'act_cost': 15.16, 'quantity': 45, 'post_code': 'TS1 2NX'}, {'bnf_code': '1106000ABAAAAAA', 'items': 1, 'practice': 'A81033', 'bnf_name': 'Dorzolamide/Timolol_Eye Dps 2%/0.5%', 'nic': 1.81, 'act_cost': 1.69, 'quantity': 5, 'post_code': 'TS3 6AL'}, {'bnf_code': '1106000ABAAAAAA', 'items': 6, 'practice': 'A81049', 'bnf_name': 'Dorzolamide/Timolol_Eye Dps 2%/0.5%', 'nic': 16.29, 'act_cost': 15.16, 'quantity': 45, 'post_code': 'TS3 6AL'}, {'bnf_code': '1106000ABAAAAAA', 'items': 5, 'practice': 'A81052', 'bnf_name': 'Dorzolamide/Timolol_Eye Dps 2%/0.5%', 'nic': 9.05, 'act_cost': 8.44, 'quantity': 25, 'post_code': 'TS10 4NW'}, {'bnf_code': '1106000ABAAAAAA', 'items': 5, 'practice': 'A81064', 'bnf_name': 'Dorzolamide/Timolol_Eye Dps 2%/0.5%', 'nic': 19.91, 'act_cost': 18.49, 'quantity': 55, 'post_code': 'TS1 2NX'}, {'bnf_code': '1106000ABAAAAAA', 'items': 2, 'practice': 'Y00286', 'bnf_name': 'Dorzolamide/Timolol_Eye Dps 2%/0.5%', 'nic': 5.43, 'act_cost': 5.05, 'quantity': 15, 'post_code': 'TS10 4NW'}, {'bnf_code': '1106000ABAAAAAA', 'items': 3, 'practice': 'P82002', 'bnf_name': 'Dorzolamide/Timolol_Eye Dps 2%/0.5%', 'nic': 9.05, 'act_cost': 8.42, 'quantity': 25, 'post_code': 'BL3 5HP'}, {'bnf_code': '1106000ABAAAAAA', 'items': 3, 'practice': 'P82025', 'bnf_name': 'Dorzolamide/Timolol_Eye Dps 2%/0.5%', 'nic': 5.43, 'act_cost': 5.07, 'quantity': 15, 'post_code': 'BL1 8TU'}, {'bnf_code': '1106000ABAAAAAA', 'items': 1, 'practice': 'P82629', 'bnf_name': 'Dorzolamide/Timolol_Eye Dps 2%/0.5%', 'nic': 7.24, 'act_cost': 6.71, 'quantity': 20, 'post_code': 'BL3 5HP'}, {'bnf_code': '1106000ABAAAAAA', 'items': 1, 'practice': 'P82640', 'bnf_name': 'Dorzolamide/Timolol_Eye Dps 2%/0.5%', 'nic': 3.62, 'act_cost': 3.36, 'quantity': 10, 'post_code': 'BL3 5HP'}, {'bnf_code': '1106000ABAAAAAA', 'items': 4, 'practice': 'Y03079', 'bnf_name': 'Dorzolamide/Timolol_Eye Dps 2%/0.5%', 'nic': 9.05, 'act_cost': 8.43, 'quantity': 25, 'post_code': 'BL1 8TU'}, {'bnf_code': '1106000ABAAAAAA', 'items': 6, 'practice': 'P83005', 'bnf_name': 'Dorzolamide/Timolol_Eye Dps 2%/0.5%', 'nic': 21.72, 'act_cost': 20.18, 'quantity': 60, 'post_code': 'BL9 0SN'}, {'bnf_code': '1106000ABAAAAAA', 'items': 2, 'practice': 'P83007', 'bnf_name': 'Dorzolamide/Timolol_Eye Dps 2%/0.5%', 'nic': 3.62, 'act_cost': 3.38, 'quantity': 10, 'post_code': 'M26 2SP'}, {'bnf_code': '1106000ABAAAAAA', 'items': 4, 'practice': 'P83008', 'bnf_name': 'Dorzolamide/Timolol_Eye Dps 2%/0.5%', 'nic': 12.67, 'act_cost': 11.78, 'quantity': 35, 'post_code': 'BL9 0NJ'}, {'bnf_code': '1106000ABAAAAAA', 'items': 4, 'practice': 'P83015', 'bnf_name': 'Dorzolamide/Timolol_Eye Dps 2%/0.5%', 'nic': 9.05, 'act_cost': 8.43, 'quantity': 25, 'post_code': 'BL9 0SN'}, {'bnf_code': '1106000ABAAAAAA', 'items': 2, 'practice': 'P83019', 'bnf_name': 'Dorzolamide/Timolol_Eye Dps 2%/0.5%', 'nic': 5.43, 'act_cost': 5.05, 'quantity': 15, 'post_code': 'BL9 0NJ'}, {'bnf_code': '1106000ABAAAAAA', 'items': 3, 'practice': 'P83020', 'bnf_name': 'Dorzolamide/Timolol_Eye Dps 2%/0.5%', 'nic': 7.24, 'act_cost': 6.74, 'quantity': 20, 'post_code': 'BL9 0NJ'}, {'bnf_code': '1106000ABAAAAAA', 'items': 5, 'practice': 'P83021', 'bnf_name': 'Dorzolamide/Timolol_Eye Dps 2%/0.5%', 'nic': 9.05, 'act_cost': 8.44, 'quantity': 25, 'post_code': 'BL9 0SN'}, {'bnf_code': '1106000ABAAAAAA', 'items': 5, 'practice': 'P83603', 'bnf_name': 'Dorzolamide/Timolol_Eye Dps 2%/0.5%', 'nic': 10.86, 'act_cost': 10.12, 'quantity': 30, 'post_code': 'M26 2SP'}, {'bnf_code': '1106000ABAAAAAA', 'items': 1, 'practice': 'Y02660', 'bnf_name': 'Dorzolamide/Timolol_Eye Dps 2%/0.5%', 'nic': 3.62, 'act_cost': 3.36, 'quantity': 10, 'post_code': 'M26 2SP'}, {'bnf_code': '1106000ABAAAAAA', 'items': 1, 'practice': 'P85003', 'bnf_name': 'Dorzolamide/Timolol_Eye Dps 2%/0.5%', 'nic': 3.62, 'act_cost': 3.36, 'quantity': 10, 'post_code': 'OL1 1NL'}, {'bnf_code': '1106000ABAAAAAA', 'items': 3, 'practice': 'P85008', 'bnf_name': 'Dorzolamide/Timolol_Eye Dps 2%/0.5%', 'nic': 5.43, 'act_cost': 5.07, 'quantity': 15, 'post_code': 'M35 0AD'}, {'bnf_code': '1106000ABAAAAAA', 'items': 5, 'practice': 'P85015', 'bnf_name': 'Dorzolamide/Timolol_Eye Dps 2%/0.5%', 'nic': 18.1, 'act_cost': 16.82, 'quantity': 50, 'post_code': 'OL4 1YN'}, {'bnf_code': '1106000ABAAAAAA', 'items': 5, 'practice': 'P85018', 'bnf_name': 'Dorzolamide/Timolol_Eye Dps 2%/0.5%', 'nic': 9.05, 'act_cost': 8.44, 'quantity': 25, 'post_code': 'OL9 7AY'}, {'bnf_code': '1106000ABAAAAAA', 'items': 1, 'practice': 'P85026', 'bnf_name': 'Dorzolamide/Timolol_Eye Dps 2%/0.5%', 'nic': 1.81, 'act_cost': 1.69, 'quantity': 5, 'post_code': 'M35 0AD'}, {'bnf_code': '1106000ABAAAAAA', 'items': 1, 'practice': 'P85601', 'bnf_name': 'Dorzolamide/Timolol_Eye Dps 2%/0.5%', 'nic': 1.81, 'act_cost': 1.69, 'quantity': 5, 'post_code': 'OL1 1NL'}, {'bnf_code': '1106000ABAAAAAA', 'items': 1, 'practice': 'P85608', 'bnf_name': 'Dorzolamide/Timolol_Eye Dps 2%/0.5%', 'nic': 3.62, 'act_cost': 3.36, 'quantity': 10, 'post_code': 'OL1 1NL'}, {'bnf_code': '1106000ABAAAAAA', 'items': 1, 'practice': 'P85615', 'bnf_name': 'Dorzolamide/Timolol_Eye Dps 2%/0.5%', 'nic': 3.62, 'act_cost': 3.36, 'quantity': 10, 'post_code': 'OL9 7AY'}, {'bnf_code': '1106000ABAAAAAA', 'items': 1, 'practice': 'P85621', 'bnf_name': 'Dorzolamide/Timolol_Eye Dps 2%/0.5%', 'nic': 5.43, 'act_cost': 5.04, 'quantity': 15, 'post_code': 'OL4 1YN'}, {'bnf_code': '1106000ABAAAAAA', 'items': 1, 'practice': 'Y01124', 'bnf_name': 'Dorzolamide/Timolol_Eye Dps 2%/0.5%', 'nic': 3.62, 'act_cost': 3.36, 'quantity': 10, 'post_code': 'OL1 1NL'}, {'bnf_code': '1106000ABAAAAAA', 'items': 2, 'practice': 'P86002', 'bnf_name': 'Dorzolamide/Timolol_Eye Dps 2%/0.5%', 'nic': 3.62, 'act_cost': 3.38, 'quantity': 10, 'post_code': 'OL11 1DN'}, {'bnf_code': '1106000ABAAAAAA', 'items': 1, 'practice': 'P86609', 'bnf_name': 'Dorzolamide/Timolol_Eye Dps 2%/0.5%', 'nic': 1.81, 'act_cost': 1.69, 'quantity': 5, 'post_code': 'OL11 1DN'}, {'bnf_code': '1106000ABAAAAAA', 'items': 3, 'practice': 'P86614', 'bnf_name': 'Dorzolamide/Timolol_Eye Dps 2%/0.5%', 'nic': 5.43, 'act_cost': 5.06, 'quantity': 15, 'post_code': 'OL11 1DN'}, {'bnf_code': '1106000ABAAAAAA', 'items': 6, 'practice': 'P86619', 'bnf_name': 'Dorzolamide/Timolol_Eye Dps 2%/0.5%', 'nic': 23.53, 'act_cost': 21.86, 'quantity': 65, 'post_code': 'OL11 1DN'}, {'bnf_code': '1106000ABAAAAAA', 'items': 1, 'practice': 'P87003', 'bnf_name': 'Dorzolamide/Timolol_Eye Dps 2%/0.5%', 'nic': 3.62, 'act_cost': 3.36, 'quantity': 10, 'post_code': 'M30 0NU'}, {'bnf_code': '1106000ABAAAAAA', 'items': 4, 'practice': 'P87020', 'bnf_name': 'Dorzolamide/Timolol_Eye Dps 2%/0.5%', 'nic': 12.67, 'act_cost': 11.78, 'quantity': 35, 'post_code': 'M30 0NU'}, {'bnf_code': '1106000ABAAAAAA', 'items': 4, 'practice': 'P87659', 'bnf_name': 'Dorzolamide/Timolol_Eye Dps 2%/0.5%', 'nic': 9.05, 'act_cost': 8.43, 'quantity': 25, 'post_code': 'M30 0NU'}, {'bnf_code': '1106000ABAAAAAA', 'items': 7, 'practice': 'P84032', 'bnf_name': 'Dorzolamide/Timolol_Eye Dps 2%/0.5%', 'nic': 21.72, 'act_cost': 20.18, 'quantity': 60, 'post_code': 'M11 4EJ'}, {'bnf_code': '1106000ABAAAAAA', 'items': 3, 'practice': 'P84051', 'bnf_name': 'Dorzolamide/Timolol_Eye Dps 2%/0.5%', 'nic': 7.24, 'act_cost': 6.74, 'quantity': 20, 'post_code': 'M11 4EJ'}, {'bnf_code': '1106000ABAAAAAA', 'items': 7, 'practice': 'P84637', 'bnf_name': 'Dorzolamide/Timolol_Eye Dps 2%/0.5%', 'nic': 23.53, 'act_cost': 21.87, 'quantity': 65, 'post_code': 'M11 4EJ'}, {'bnf_code': '1106000ABAAAAAA', 'items': 1, 'practice': 'P88009', 'bnf_name': 'Dorzolamide/Timolol_Eye Dps 2%/0.5%', 'nic': 3.62, 'act_cost': 3.36, 'quantity': 10, 'post_code': 'SK6 1ND'}, {'bnf_code': '1106000ABAAAAAA', 'items': 5, 'practice': 'P88019', 'bnf_name': 'Dorzolamide/Timolol_Eye Dps 2%/0.5%', 'nic': 12.67, 'act_cost': 11.79, 'quantity': 35, 'post_code': 'SK6 1ND'}, {'bnf_code': '1106000ABAAAAAA', 'items': 1, 'practice': 'P88624', 'bnf_name': 'Dorzolamide/Timolol_Eye Dps 2%/0.5%', 'nic': 1.81, 'act_cost': 1.69, 'quantity': 5, 'post_code': 'SK6 1ND'}, {'bnf_code': '1106000ABAAAAAA', 'items': 4, 'practice': 'P88625', 'bnf_name': 'Dorzolamide/Timolol_Eye Dps 2%/0.5%', 'nic': 10.86, 'act_cost': 10.11, 'quantity': 30, 'post_code': 'SK6 1ND'}, {'bnf_code': '1106000ABAAAAAA', 'items': 6, 'practice': 'P92005', 'bnf_name': 'Dorzolamide/Timolol_Eye Dps 2%/0.5%', 'nic': 18.1, 'act_cost': 16.83, 'quantity': 50, 'post_code': 'WN3 5HL'}, {'bnf_code': '1106000ABAAAAAA', 'items': 4, 'practice': 'P92006', 'bnf_name': 'Dorzolamide/Timolol_Eye Dps 2%/0.5%', 'nic': 14.48, 'act_cost': 13.45, 'quantity': 40, 'post_code': 'WN2 5NG'}, {'bnf_code': '1106000ABAAAAAA', 'items': 1, 'practice': 'P92031', 'bnf_name': 'Dorzolamide/Timolol_Eye Dps 2%/0.5%', 'nic': 3.62, 'act_cost': 3.36, 'quantity': 10, 'post_code': 'WN2 5NG'}, {'bnf_code': '1106000ABAAAAAA', 'items': 1, 'practice': 'P92035', 'bnf_name': 'Dorzolamide/Timolol_Eye Dps 2%/0.5%', 'nic': 3.62, 'act_cost': 3.36, 'quantity': 10, 'post_code': 'WN7 1HR'}, {'bnf_code': '1106000ABAAAAAA', 'items': 2, 'practice': 'P92602', 'bnf_name': 'Dorzolamide/Timolol_Eye Dps 2%/0.5%', 'nic': 9.05, 'act_cost': 8.4, 'quantity': 25, 'post_code': 'WN7 2PE'}, {'bnf_code': '1106000ABAAAAAA', 'items': 6, 'practice': 'P92607', 'bnf_name': 'Dorzolamide/Timolol_Eye Dps 2%/0.5%', 'nic': 12.67, 'act_cost': 11.8, 'quantity': 35, 'post_code': 'WN7 1HR'}, {'bnf_code': '1106000ABAAAAAA', 'items': 2, 'practice': 'P92621', 'bnf_name': 'Dorzolamide/Timolol_Eye Dps 2%/0.5%', 'nic': 3.62, 'act_cost': 3.38, 'quantity': 10, 'post_code': 'WN7 2PE'}, {'bnf_code': '1106000ABAAAAAA', 'items': 1, 'practice': 'P92623', 'bnf_name': 'Dorzolamide/Timolol_Eye Dps 2%/0.5%', 'nic': 1.81, 'act_cost': 1.69, 'quantity': 5, 'post_code': 'WN7 1HR'}, {'bnf_code': '1106000ABAAAAAA', 'items': 5, 'practice': 'P92647', 'bnf_name': 'Dorzolamide/Timolol_Eye Dps 2%/0.5%', 'nic': 16.29, 'act_cost': 15.14, 'quantity': 45, 'post_code': 'WN3 5HL'}, {'bnf_code': '1106000ABAAAAAA', 'items': 1, 'practice': 'P92653', 'bnf_name': 'Dorzolamide/Timolol_Eye Dps 2%/0.5%', 'nic': 1.81, 'act_cost': 1.69, 'quantity': 5, 'post_code': 'WN3 5HL'}, {'bnf_code': '1106000ABAAAAAA', 'items': 1, 'practice': 'Y00050', 'bnf_name': 'Dorzolamide/Timolol_Eye Dps 2%/0.5%', 'nic': 3.62, 'act_cost': 3.36, 'quantity': 10, 'post_code': 'WN7 2PE'}, {'bnf_code': '1106000ABAAAAAA', 'items': 6, 'practice': 'Y02322', 'bnf_name': 'Dorzolamide/Timolol_Eye Dps 2%/0.5%', 'nic': 16.29, 'act_cost': 15.15, 'quantity': 45, 'post_code': 'WN7 2PE'}, {'bnf_code': '1106000ABAAAAAA', 'items': 9, 'practice': 'P81051', 'bnf_name': 'Dorzolamide/Timolol_Eye Dps 2%/0.5%', 'nic': 18.1, 'act_cost': 16.86, 'quantity': 50, 'post_code': 'BB3 1PY'}, {'bnf_code': '1106000ABAAAAAA', 'items': 13, 'practice': 'P81125', 'bnf_name': 'Dorzolamide/Timolol_Eye Dps 2%/0.5%', 'nic': 27.15, 'act_cost': 25.29, 'quantity': 75, 'post_code': 'BB2 1AX'}, {'bnf_code': '1106000ABAAAAAA', 'items': 16, 'practice': 'P81140', 'bnf_name': 'Dorzolamide/Timolol_Eye Dps 2%/0.5%', 'nic': 38.01, 'act_cost': 35.39, 'quantity': 105, 'post_code': 'BB3 1PY'}, {'bnf_code': '1106000ABAAAAAA', 'items': 8, 'practice': 'P81607', 'bnf_name': 'Dorzolamide/Timolol_Eye Dps 2%/0.5%', 'nic': 19.91, 'act_cost': 18.53, 'quantity': 55, 'post_code': 'BB2 1AX'}, {'bnf_code': '1106000ABAAAAAA', 'items': 2, 'practice': 'P81694', 'bnf_name': 'Dorzolamide/Timolol_Eye Dps 2%/0.5%', 'nic': 3.62, 'act_cost': 3.38, 'quantity': 10, 'post_code': 'BB2 1AX'}, {'bnf_code': '1106000ABAAAAAA', 'items': 1, 'practice': 'P81712', 'bnf_name': 'Dorzolamide/Timolol_Eye Dps 2%/0.5%', 'nic': 3.62, 'act_cost': 3.36, 'quantity': 10, 'post_code': 'BB3 1PY'}, {'bnf_code': '1106000ABAAAAAA', 'items': 15, 'practice': 'P81072', 'bnf_name': 'Dorzolamide/Timolol_Eye Dps 2%/0.5%', 'nic': 45.25, 'act_cost': 42.08, 'quantity': 125, 'post_code': 'FY2 0JG'}, {'bnf_code': '1106000ABAAAAAA', 'items': 12, 'practice': 'P81074', 'bnf_name': 'Dorzolamide/Timolol_Eye Dps 2%/0.5%', 'nic': 28.96, 'act_cost': 26.96, 'quantity': 80, 'post_code': 'FY4 1TJ'}, {'bnf_code': '1106000ABAAAAAA', 'items': 9, 'practice': 'P81159', 'bnf_name': 'Dorzolamide/Timolol_Eye Dps 2%/0.5%', 'nic': 18.1, 'act_cost': 16.87, 'quantity': 50, 'post_code': 'FY4 1TJ'}, {'bnf_code': '1106000ABAAAAAA', 'items': 9, 'practice': 'P81681', 'bnf_name': 'Dorzolamide/Timolol_Eye Dps 2%/0.5%', 'nic': 25.34, 'act_cost': 23.57, 'quantity': 70, 'post_code': 'FY2 0JG'}, {'bnf_code': '1106000ABAAAAAA', 'items': 3, 'practice': 'P81684', 'bnf_name': 'Dorzolamide/Timolol_Eye Dps 2%/0.5%', 'nic': 5.43, 'act_cost': 5.07, 'quantity': 15, 'post_code': 'FY4 1TJ'}, {'bnf_code': '1106000ABAAAAAA', 'items': 17, 'practice': 'P81020', 'bnf_name': 'Dorzolamide/Timolol_Eye Dps 2%/0.5%', 'nic': 56.11, 'act_cost': 52.15, 'quantity': 155, 'post_code': 'BB11 2DL'}, {'bnf_code': '1106000ABAAAAAA', 'items': 8, 'practice': 'P81025', 'bnf_name': 'Dorzolamide/Timolol_Eye Dps 2%/0.5%', 'nic': 25.34, 'act_cost': 23.56, 'quantity': 70, 'post_code': 'BB8 0JZ'}, {'bnf_code': '1106000ABAAAAAA', 'items': 15, 'practice': 'P81032', 'bnf_name': 'Dorzolamide/Timolol_Eye Dps 2%/0.5%', 'nic': 50.68, 'act_cost': 47.11, 'quantity': 140, 'post_code': 'BB9 7SR'}, {'bnf_code': '1106000ABAAAAAA', 'items': 20, 'practice': 'P81069', 'bnf_name': 'Dorzolamide/Timolol_Eye Dps 2%/0.5%', 'nic': 56.11, 'act_cost': 52.16, 'quantity': 155, 'post_code': 'BB7 2JG'}, {'bnf_code': '1106000ABAAAAAA', 'items': 8, 'practice': 'P81099', 'bnf_name': 'Dorzolamide/Timolol_Eye Dps 2%/0.5%', 'nic': 19.91, 'act_cost': 18.52, 'quantity': 55, 'post_code': 'BB4 5SL'}, {'bnf_code': '1106000ABAAAAAA', 'items': 13, 'practice': 'P81100', 'bnf_name': 'Dorzolamide/Timolol_Eye Dps 2%/0.5%', 'nic': 41.63, 'act_cost': 38.67, 'quantity': 115, 'post_code': 'BB7 2JG'}, {'bnf_code': '1106000ABAAAAAA', 'items': 27, 'practice': 'P81123', 'bnf_name': 'Dorzolamide/Timolol_Eye Dps 2%/0.5%', 'nic': 74.21, 'act_cost': 69.04, 'quantity': 205, 'post_code': 'BB8 0JZ'}, {'bnf_code': '1106000ABAAAAAA', 'items': 1, 'practice': 'P81170', 'bnf_name': 'Dorzolamide/Timolol_Eye Dps 2%/0.5%', 'nic': 1.81, 'act_cost': 1.69, 'quantity': 5, 'post_code': 'BB9 7SR'}, {'bnf_code': '1106000ABAAAAAA', 'items': 4, 'practice': 'P81212', 'bnf_name': 'Dorzolamide/Timolol_Eye Dps 2%/0.5%', 'nic': 12.67, 'act_cost': 11.78, 'quantity': 35, 'post_code': 'BB4 5SL'}, {'bnf_code': '1106000ABAAAAAA', 'items': 4, 'practice': 'P81215', 'bnf_name': 'Dorzolamide/Timolol_Eye Dps 2%/0.5%', 'nic': 19.91, 'act_cost': 18.48, 'quantity': 55, 'post_code': 'BB11 2DL'}, {'bnf_code': '1106000ABAAAAAA', 'items': 2, 'practice': 'P81686', 'bnf_name': 'Dorzolamide/Timolol_Eye Dps 2%/0.5%', 'nic': 3.62, 'act_cost': 3.38, 'quantity': 10, 'post_code': 'BB4 5SL'}, {'bnf_code': '1106000ABAAAAAA', 'items': 4, 'practice': 'P81731', 'bnf_name': 'Dorzolamide/Timolol_Eye Dps 2%/0.5%', 'nic': 16.29, 'act_cost': 15.13, 'quantity': 45, 'post_code': 'BB9 7SR'}, {'bnf_code': '1106000ABAAAAAA', 'items': 7, 'practice': 'P81736', 'bnf_name': 'Dorzolamide/Timolol_Eye Dps 2%/0.5%', 'nic': 14.48, 'act_cost': 13.49, 'quantity': 40, 'post_code': 'BB9 7SR'}, {'bnf_code': '1106000ABAAAAAA', 'items': 1, 'practice': 'P81778', 'bnf_name': 'Dorzolamide/Timolol_Eye Dps 2%/0.5%', 'nic': 1.81, 'act_cost': 1.69, 'quantity': 5, 'post_code': 'BB8 0JZ'}, {'bnf_code': '1106000ABAAAAAA', 'items': 8, 'practice': 'P81056', 'bnf_name': 'Dorzolamide/Timolol_Eye Dps 2%/0.5%', 'nic': 18.1, 'act_cost': 16.86, 'quantity': 50, 'post_code': 'LA1 1PN'}, {'bnf_code': '1106000ABAAAAAA', 'items': 1, 'practice': 'P81091', 'bnf_name': 'Dorzolamide/Timolol_Eye Dps 2%/0.5%', 'nic': 3.62, 'act_cost': 3.36, 'quantity': 10, 'post_code': 'LA1 1PN'}, {'bnf_code': '1106000ABAAAAAA', 'items': 7, 'practice': 'P81079', 'bnf_name': 'Dorzolamide/Timolol_Eye Dps 2%/0.5%', 'nic': 21.72, 'act_cost': 20.19, 'quantity': 60, 'post_code': 'FY5 2TZ'}, {'bnf_code': '1106000ABAAAAAA', 'items': 11, 'practice': 'P81086', 'bnf_name': 'Dorzolamide/Timolol_Eye Dps 2%/0.5%', 'nic': 19.91, 'act_cost': 18.57, 'quantity': 55, 'post_code': 'FY7 8GU'}, {'bnf_code': '1106000ABAAAAAA', 'items': 20, 'practice': 'P81133', 'bnf_name': 'Dorzolamide/Timolol_Eye Dps 2%/0.5%', 'nic': 56.11, 'act_cost': 52.2, 'quantity': 155, 'post_code': 'FY5 2TZ'}, {'bnf_code': '1106000ABAAAAAA', 'items': 3, 'practice': 'P81668', 'bnf_name': 'Dorzolamide/Timolol_Eye Dps 2%/0.5%', 'nic': 7.24, 'act_cost': 6.74, 'quantity': 20, 'post_code': 'FY7 8GU'}, {'bnf_code': '1106000ABAAAAAA', 'items': 5, 'practice': 'N81057', 'bnf_name': 'Dorzolamide/Timolol_Eye Dps 2%/0.5%', 'nic': 14.48, 'act_cost': 13.47, 'quantity': 40, 'post_code': 'WA7 1AB'}, {'bnf_code': '1106000ABAAAAAA', 'items': 8, 'practice': 'N81066', 'bnf_name': 'Dorzolamide/Timolol_Eye Dps 2%/0.5%', 'nic': 21.72, 'act_cost': 20.21, 'quantity': 60, 'post_code': 'WA7 1AB'}, {'bnf_code': '1106000ABAAAAAA', 'items': 4, 'practice': 'N83003', 'bnf_name': 'Dorzolamide/Timolol_Eye Dps 2%/0.5%', 'nic': 14.48, 'act_cost': 13.45, 'quantity': 40, 'post_code': 'WA10 2DJ'}, {'bnf_code': '1106000ABAAAAAA', 'items': 3, 'practice': 'N83023', 'bnf_name': 'Dorzolamide/Timolol_Eye Dps 2%/0.5%', 'nic': 5.43, 'act_cost': 5.06, 'quantity': 15, 'post_code': 'WA9 1LN'}, {'bnf_code': '1106000ABAAAAAA', 'items': 2, 'practice': 'N83026', 'bnf_name': 'Dorzolamide/Timolol_Eye Dps 2%/0.5%', 'nic': 10.86, 'act_cost': 10.07, 'quantity': 30, 'post_code': 'WA10 2DJ'}, {'bnf_code': '1106000ABAAAAAA', 'items': 6, 'practice': 'N83027', 'bnf_name': 'Dorzolamide/Timolol_Eye Dps 2%/0.5%', 'nic': 18.1, 'act_cost': 16.83, 'quantity': 50, 'post_code': 'WA10 2DJ'}, {'bnf_code': '1106000ABAAAAAA', 'items': 3, 'practice': 'N83060', 'bnf_name': 'Dorzolamide/Timolol_Eye Dps 2%/0.5%', 'nic': 5.43, 'act_cost': 5.06, 'quantity': 15, 'post_code': 'WA9 1LN'}, {'bnf_code': '1106000ABAAAAAA', 'items': 1, 'practice': 'N83604', 'bnf_name': 'Dorzolamide/Timolol_Eye Dps 2%/0.5%', 'nic': 3.62, 'act_cost': 3.36, 'quantity': 10, 'post_code': 'WA9 1LN'}, {'bnf_code': '1106000ABAAAAAA', 'items': 2, 'practice': 'N83637', 'bnf_name': 'Dorzolamide/Timolol_Eye Dps 2%/0.5%', 'nic': 3.62, 'act_cost': 3.38, 'quantity': 10, 'post_code': 'WA10 2DJ'}, {'bnf_code': '1106000ABAAAAAA', 'items': 14, 'practice': 'A84009', 'bnf_name': 'Dorzolamide/Timolol_Eye Dps 2%/0.5%', 'nic': 41.63, 'act_cost': 38.7, 'quantity': 115, 'post_code': 'NE24 1DX'}, {'bnf_code': '1106000ABAAAAAA', 'items': 19, 'practice': 'A84014', 'bnf_name': 'Dorzolamide/Timolol_Eye Dps 2%/0.5%', 'nic': 47.06, 'act_cost': 43.8, 'quantity': 130, 'post_code': 'NE24 1DX'}, {'bnf_code': '1106000ABAAAAAA', 'items': 3, 'practice': 'Y00151', 'bnf_name': 'Dorzolamide/Timolol_Eye Dps 2%/0.5%', 'nic': 5.43, 'act_cost': 5.06, 'quantity': 15, 'post_code': 'NE24 1DX'}, {'bnf_code': '1106000ABAAAAAA', 'items': 1, 'practice': 'A89006', 'bnf_name': 'Dorzolamide/Timolol_Eye Dps 2%/0.5%', 'nic': 5.43, 'act_cost': 5.04, 'quantity': 15, 'post_code': 'SR4 7XF'}, {'bnf_code': '1106000ABAAAAAA', 'items': 1, 'practice': 'A89007', 'bnf_name': 'Dorzolamide/Timolol_Eye Dps 2%/0.5%', 'nic': 1.81, 'act_cost': 1.69, 'quantity': 5, 'post_code': 'SR4 7XF'}, {'bnf_code': '1106000ABAAAAAA', 'items': 2, 'practice': 'A89010', 'bnf_name': 'Dorzolamide/Timolol_Eye Dps 2%/0.5%', 'nic': 7.24, 'act_cost': 6.72, 'quantity': 20, 'post_code': 'NE37 2PU'}, {'bnf_code': '1106000ABAAAAAA', 'items': 1, 'practice': 'A89012', 'bnf_name': 'Dorzolamide/Timolol_Eye Dps 2%/0.5%', 'nic': 1.81, 'act_cost': 1.69, 'quantity': 5, 'post_code': 'NE38 7NQ'}, {'bnf_code': '1106000ABAAAAAA', 'items': 5, 'practice': 'A89022', 'bnf_name': 'Dorzolamide/Timolol_Eye Dps 2%/0.5%', 'nic': 14.48, 'act_cost': 13.46, 'quantity': 40, 'post_code': 'NE37 2PU'}, {'bnf_code': '1106000ABAAAAAA', 'items': 1, 'practice': 'A89025', 'bnf_name': 'Dorzolamide/Timolol_Eye Dps 2%/0.5%', 'nic': 7.24, 'act_cost': 6.71, 'quantity': 20, 'post_code': 'NE38 7NQ'}, {'bnf_code': '1106000ABAAAAAA', 'items': 1, 'practice': 'A89031', 'bnf_name': 'Dorzolamide/Timolol_Eye Dps 2%/0.5%', 'nic': 7.24, 'act_cost': 6.71, 'quantity': 20, 'post_code': 'SR4 7XF'}, {'bnf_code': '1106000ABAAAAAA', 'items': 1, 'practice': 'A85009', 'bnf_name': 'Dorzolamide/Timolol_Eye Dps 2%/0.5%', 'nic': 1.81, 'act_cost': 1.69, 'quantity': 5, 'post_code': 'NE10 9QG'}, {'bnf_code': '1106000ABAAAAAA', 'items': 11, 'practice': 'A85011', 'bnf_name': 'Dorzolamide/Timolol_Eye Dps 2%/0.5%', 'nic': 27.15, 'act_cost': 25.27, 'quantity': 75, 'post_code': 'NE10 9QG'}, {'bnf_code': '1106000ABAAAAAA', 'items': 8, 'practice': 'B81014', 'bnf_name': 'Dorzolamide/Timolol_Eye Dps 2%/0.5%', 'nic': 21.72, 'act_cost': 20.21, 'quantity': 60, 'post_code': 'YO16 4LZ'}, {'bnf_code': '1106000ABAAAAAA', 'items': 23, 'practice': 'B81069', 'bnf_name': 'Dorzolamide/Timolol_Eye Dps 2%/0.5%', 'nic': 59.73, 'act_cost': 55.59, 'quantity': 165, 'post_code': 'YO16 4LZ'}, {'bnf_code': '1106000ABAAAAAA', 'items': 12, 'practice': 'B81070', 'bnf_name': 'Dorzolamide/Timolol_Eye Dps 2%/0.5%', 'nic': 23.53, 'act_cost': 21.93, 'quantity': 65, 'post_code': 'YO16 4LZ'}, {'bnf_code': '1106000ABAAAAAA', 'items': 1, 'practice': 'B82016', 'bnf_name': 'Dorzolamide/Timolol_Eye Dps 2%/0.5%', 'nic': 1.81, 'act_cost': 1.69, 'quantity': 5, 'post_code': 'HG1 5AR'}, {'bnf_code': '1106000ABAAAAAA', 'items': 2, 'practice': 'B82027', 'bnf_name': 'Dorzolamide/Timolol_Eye Dps 2%/0.5%', 'nic': 3.62, 'act_cost': 3.38, 'quantity': 10, 'post_code': 'HG1 5AR'}, {'bnf_code': '1106000ABAAAAAA', 'items': 2, 'practice': 'B82091', 'bnf_name': 'Dorzolamide/Timolol_Eye Dps 2%/0.5%', 'nic': 9.05, 'act_cost': 8.4, 'quantity': 25, 'post_code': 'HG1 5AR'}, {'bnf_code': '1106000ABAAAAAA', 'items': 1, 'practice': 'B81002', 'bnf_name': 'Dorzolamide/Timolol_Eye Dps 2%/0.5%', 'nic': 3.62, 'act_cost': 3.36, 'quantity': 10, 'post_code': 'HU7 4DW'}, {'bnf_code': '1106000ABAAAAAA', 'items': 3, 'practice': 'B81112', 'bnf_name': 'Dorzolamide/Timolol_Eye Dps 2%/0.5%', 'nic': 9.05, 'act_cost': 8.41, 'quantity': 25, 'post_code': 'HU7 4DW'}, {'bnf_code': '1106000ABAAAAAA', 'items': 4, 'practice': 'B81119', 'bnf_name': 'Dorzolamide/Timolol_Eye Dps 2%/0.5%', 'nic': 10.86, 'act_cost': 10.11, 'quantity': 30, 'post_code': 'HU7 4DW'}, {'bnf_code': '1106000ABAAAAAA', 'items': 4, 'practice': 'Y02344', 'bnf_name': 'Dorzolamide/Timolol_Eye Dps 2%/0.5%', 'nic': 9.05, 'act_cost': 8.42, 'quantity': 25, 'post_code': 'HU7 4DW'}, {'bnf_code': '1106000ABAAAAAA', 'items': 13, 'practice': 'B81031', 'bnf_name': 'Dorzolamide/Timolol_Eye Dps 2%/0.5%', 'nic': 32.58, 'act_cost': 30.33, 'quantity': 90, 'post_code': 'DN34 4GB'}, {'bnf_code': '1106000ABAAAAAA', 'items': 7, 'practice': 'B81077', 'bnf_name': 'Dorzolamide/Timolol_Eye Dps 2%/0.5%', 'nic': 21.72, 'act_cost': 20.2, 'quantity': 60, 'post_code': 'DN34 4GB'}, {'bnf_code': '1106000ABAAAAAA', 'items': 2, 'practice': 'B81091', 'bnf_name': 'Dorzolamide/Timolol_Eye Dps 2%/0.5%', 'nic': 5.43, 'act_cost': 5.05, 'quantity': 15, 'post_code': 'DN34 4GB'}, {'bnf_code': '1106000ABAAAAAA', 'items': 8, 'practice': 'C85001', 'bnf_name': 'Dorzolamide/Timolol_Eye Dps 2%/0.5%', 'nic': 19.91, 'act_cost': 18.53, 'quantity': 55, 'post_code': 'S63 9EH'}, {'bnf_code': '1106000ABAAAAAA', 'items': 17, 'practice': 'C85008', 'bnf_name': 'Dorzolamide/Timolol_Eye Dps 2%/0.5%', 'nic': 39.82, 'act_cost': 37.07, 'quantity': 110, 'post_code': 'S74 9AF'}, {'bnf_code': '1106000ABAAAAAA', 'items': 13, 'practice': 'C85022', 'bnf_name': 'Dorzolamide/Timolol_Eye Dps 2%/0.5%', 'nic': 34.39, 'act_cost': 32.0, 'quantity': 95, 'post_code': 'S74 9AF'}, {'bnf_code': '1106000ABAAAAAA', 'items': 9, 'practice': 'C85023', 'bnf_name': 'Dorzolamide/Timolol_Eye Dps 2%/0.5%', 'nic': 27.15, 'act_cost': 25.25, 'quantity': 75, 'post_code': 'S63 9EH'}, {'bnf_code': '1106000ABAAAAAA', 'items': 12, 'practice': 'C84013', 'bnf_name': 'Dorzolamide/Timolol_Eye Dps 2%/0.5%', 'nic': 30.77, 'act_cost': 28.64, 'quantity': 85, 'post_code': 'DN22 7XF'}, {'bnf_code': '1106000ABAAAAAA', 'items': 11, 'practice': 'C84035', 'bnf_name': 'Dorzolamide/Timolol_Eye Dps 2%/0.5%', 'nic': 30.77, 'act_cost': 28.62, 'quantity': 85, 'post_code': 'DN22 7XF'}, {'bnf_code': '1106000ABAAAAAA', 'items': 5, 'practice': 'C87005', 'bnf_name': 'Dorzolamide/Timolol_Eye Dps 2%/0.5%', 'nic': 16.29, 'act_cost': 15.14, 'quantity': 45, 'post_code': 'S65 1DA'}, {'bnf_code': '1106000ABAAAAAA', 'items': 7, 'practice': 'C87017', 'bnf_name': 'Dorzolamide/Timolol_Eye Dps 2%/0.5%', 'nic': 18.1, 'act_cost': 16.85, 'quantity': 50, 'post_code': 'S65 1DA'}, {'bnf_code': '1106000ABAAAAAA', 'items': 4, 'practice': 'C87622', 'bnf_name': 'Dorzolamide/Timolol_Eye Dps 2%/0.5%', 'nic': 7.24, 'act_cost': 6.76, 'quantity': 20, 'post_code': 'S65 1DA'}, {'bnf_code': '1106000ABAAAAAA', 'items': 1, 'practice': 'B83032', 'bnf_name': 'Dorzolamide/Timolol_Eye Dps 2%/0.5%', 'nic': 1.81, 'act_cost': 1.69, 'quantity': 5, 'post_code': 'BD3 8QH'}, {'bnf_code': '1106000ABAAAAAA', 'items': 2, 'practice': 'B83611', 'bnf_name': 'Dorzolamide/Timolol_Eye Dps 2%/0.5%', 'nic': 3.62, 'act_cost': 3.38, 'quantity': 10, 'post_code': 'BD3 8QH'}, {'bnf_code': '1106000ABAAAAAA', 'items': 5, 'practice': 'B83661', 'bnf_name': 'Dorzolamide/Timolol_Eye Dps 2%/0.5%', 'nic': 18.1, 'act_cost': 16.82, 'quantity': 50, 'post_code': 'BD3 8QH'}, {'bnf_code': '1106000ABAAAAAA', 'items': 11, 'practice': 'B86016', 'bnf_name': 'Dorzolamide/Timolol_Eye Dps 2%/0.5%', 'nic': 32.58, 'act_cost': 30.3, 'quantity': 90, 'post_code': 'LS9 9EF'}, {'bnf_code': '1106000ABAAAAAA', 'items': 5, 'practice': 'B86054', 'bnf_name': 'Dorzolamide/Timolol_Eye Dps 2%/0.5%', 'nic': 9.05, 'act_cost': 8.45, 'quantity': 25, 'post_code': 'LS9 9EF'}, {'bnf_code': '1106000ABAAAAAA', 'items': 1, 'practice': 'B85004', 'bnf_name': 'Dorzolamide/Timolol_Eye Dps 2%/0.5%', 'nic': 3.62, 'act_cost': 3.36, 'quantity': 10, 'post_code': 'WF13 1HN'}, {'bnf_code': '1106000ABAAAAAA', 'items': 6, 'practice': 'B85020', 'bnf_name': 'Dorzolamide/Timolol_Eye Dps 2%/0.5%', 'nic': 19.91, 'act_cost': 18.5, 'quantity': 55, 'post_code': 'WF13 1HN'}, {'bnf_code': '1106000ABAAAAAA', 'items': 1, 'practice': 'Y01851', 'bnf_name': 'Dorzolamide/Timolol_Eye Dps 2%/0.5%', 'nic': 1.81, 'act_cost': 1.69, 'quantity': 5, 'post_code': 'WF13 1HN'}, {'bnf_code': '1106000ABAAAAAA', 'items': 3, 'practice': 'M86005', 'bnf_name': 'Dorzolamide/Timolol_Eye Dps 2%/0.5%', 'nic': 7.24, 'act_cost': 6.74, 'quantity': 20, 'post_code': 'CV1 4FS'}, {'bnf_code': '1106000ABAAAAAA', 'items': 5, 'practice': 'M86012', 'bnf_name': 'Dorzolamide/Timolol_Eye Dps 2%/0.5%', 'nic': 10.86, 'act_cost': 10.11, 'quantity': 30, 'post_code': 'CV1 4FS'}, {'bnf_code': '1106000ABAAAAAA', 'items': 3, 'practice': 'M86617', 'bnf_name': 'Dorzolamide/Timolol_Eye Dps 2%/0.5%', 'nic': 5.43, 'act_cost': 5.06, 'quantity': 15, 'post_code': 'CV1 4FS'}, {'bnf_code': '1106000ABAAAAAA', 'items': 1, 'practice': 'Y00996', 'bnf_name': 'Dorzolamide/Timolol_Eye Dps 2%/0.5%', 'nic': 1.81, 'act_cost': 1.69, 'quantity': 5, 'post_code': 'CV1 4FS'}, {'bnf_code': '1106000ABAAAAAA', 'items': 2, 'practice': 'M85078', 'bnf_name': 'Dorzolamide/Timolol_Eye Dps 2%/0.5%', 'nic': 3.62, 'act_cost': 3.38, 'quantity': 10, 'post_code': 'B11 4BW'}, {'bnf_code': '1106000ABAAAAAA', 'items': 1, 'practice': 'M85774', 'bnf_name': 'Dorzolamide/Timolol_Eye Dps 2%/0.5%', 'nic': 3.62, 'act_cost': 3.36, 'quantity': 10, 'post_code': 'B11 4BW'}, {'bnf_code': '1106000ABAAAAAA', 'items': 5, 'practice': 'M85176', 'bnf_name': 'Dorzolamide/Timolol_Eye Dps 2%/0.5%', 'nic': 23.53, 'act_cost': 21.85, 'quantity': 65, 'post_code': 'B21 9RY'}, {'bnf_code': '1106000ABAAAAAA', 'items': 2, 'practice': 'M85652', 'bnf_name': 'Dorzolamide/Timolol_Eye Dps 2%/0.5%', 'nic': 10.86, 'act_cost': 10.07, 'quantity': 30, 'post_code': 'B18 7AL'}, {'bnf_code': '1106000ABAAAAAA', 'items': 7, 'practice': 'M85715', 'bnf_name': 'Dorzolamide/Timolol_Eye Dps 2%/0.5%', 'nic': 21.72, 'act_cost': 20.19, 'quantity': 60, 'post_code': 'B21 9RY'}, {'bnf_code': '1106000ABAAAAAA', 'items': 3, 'practice': 'M85757', 'bnf_name': 'Dorzolamide/Timolol_Eye Dps 2%/0.5%', 'nic': 7.24, 'act_cost': 6.74, 'quantity': 20, 'post_code': 'B21 9RY'}, {'bnf_code': '1106000ABAAAAAA', 'items': 10, 'practice': 'M88038', 'bnf_name': 'Dorzolamide/Timolol_Eye Dps 2%/0.5%', 'nic': 28.96, 'act_cost': 26.93, 'quantity': 80, 'post_code': 'B70 7AW'}, {'bnf_code': '1106000ABAAAAAA', 'items': 5, 'practice': 'M88619', 'bnf_name': 'Dorzolamide/Timolol_Eye Dps 2%/0.5%', 'nic': 19.91, 'act_cost': 18.49, 'quantity': 55, 'post_code': 'B70 7AW'}, {'bnf_code': '1106000ABAAAAAA', 'items': 1, 'practice': 'M88625', 'bnf_name': 'Dorzolamide/Timolol_Eye Dps 2%/0.5%', 'nic': 1.81, 'act_cost': 1.69, 'quantity': 5, 'post_code': 'B70 7AW'}, {'bnf_code': '1106000ABAAAAAA', 'items': 1, 'practice': 'M88646', 'bnf_name': 'Dorzolamide/Timolol_Eye Dps 2%/0.5%', 'nic': 3.62, 'act_cost': 3.36, 'quantity': 10, 'post_code': 'B70 7AW'}, {'bnf_code': '1106000ABAAAAAA', 'items': 5, 'practice': 'Y00412', 'bnf_name': 'Dorzolamide/Timolol_Eye Dps 2%/0.5%', 'nic': 12.67, 'act_cost': 11.79, 'quantity': 35, 'post_code': 'B21 9RY'}, {'bnf_code': '1106000ABAAAAAA', 'items': 7, 'practice': 'Y00492', 'bnf_name': 'Dorzolamide/Timolol_Eye Dps 2%/0.5%', 'nic': 18.1, 'act_cost': 16.84, 'quantity': 50, 'post_code': 'B18 7AL'}, {'bnf_code': '1106000ABAAAAAA', 'items': 2, 'practice': 'Y02961', 'bnf_name': 'Dorzolamide/Timolol_Eye Dps 2%/0.5%', 'nic': 5.43, 'act_cost': 5.05, 'quantity': 15, 'post_code': 'B18 7AL'}, {'bnf_code': '1106000ABAAAAAA', 'items': 10, 'practice': 'M91013', 'bnf_name': 'Dorzolamide/Timolol_Eye Dps 2%/0.5%', 'nic': 47.06, 'act_cost': 43.69, 'quantity': 130, 'post_code': 'WV13 2DR'}, {'bnf_code': '1106000ABAAAAAA', 'items': 5, 'practice': 'M91021', 'bnf_name': 'Dorzolamide/Timolol_Eye Dps 2%/0.5%', 'nic': 16.29, 'act_cost': 15.15, 'quantity': 45, 'post_code': 'WV13 2DR'}, {'bnf_code': '1106000ABAAAAAA', 'items': 1, 'practice': 'M91025', 'bnf_name': 'Dorzolamide/Timolol_Eye Dps 2%/0.5%', 'nic': 3.62, 'act_cost': 3.36, 'quantity': 10, 'post_code': 'WS10 8SY'}, {'bnf_code': '1106000ABAAAAAA', 'items': 2, 'practice': 'M91026', 'bnf_name': 'Dorzolamide/Timolol_Eye Dps 2%/0.5%', 'nic': 7.24, 'act_cost': 6.73, 'quantity': 20, 'post_code': 'WS10 8SY'}, {'bnf_code': '1106000ABAAAAAA', 'items': 5, 'practice': 'M91034', 'bnf_name': 'Dorzolamide/Timolol_Eye Dps 2%/0.5%', 'nic': 23.53, 'act_cost': 21.85, 'quantity': 65, 'post_code': 'WS3 3JP'}, {'bnf_code': '1106000ABAAAAAA', 'items': 1, 'practice': 'M91602', 'bnf_name': 'Dorzolamide/Timolol_Eye Dps 2%/0.5%', 'nic': 3.62, 'act_cost': 3.36, 'quantity': 10, 'post_code': 'WS3 3JP'}, {'bnf_code': '1106000ABAAAAAA', 'items': 2, 'practice': 'M91612', 'bnf_name': 'Dorzolamide/Timolol_Eye Dps 2%/0.5%', 'nic': 3.62, 'act_cost': 3.38, 'quantity': 10, 'post_code': 'WS3 3JP'}, {'bnf_code': '1106000ABAAAAAA', 'items': 4, 'practice': 'M91647', 'bnf_name': 'Dorzolamide/Timolol_Eye Dps 2%/0.5%', 'nic': 14.48, 'act_cost': 13.46, 'quantity': 40, 'post_code': 'WS3 3JP'}, {'bnf_code': '1106000ABAAAAAA', 'items': 2, 'practice': 'M91650', 'bnf_name': 'Dorzolamide/Timolol_Eye Dps 2%/0.5%', 'nic': 5.43, 'act_cost': 5.05, 'quantity': 15, 'post_code': 'WS3 3JP'}, {'bnf_code': '1106000ABAAAAAA', 'items': 4, 'practice': 'Y00278', 'bnf_name': 'Dorzolamide/Timolol_Eye Dps 2%/0.5%', 'nic': 10.86, 'act_cost': 10.1, 'quantity': 30, 'post_code': 'WS10 8SY'}, {'bnf_code': '1106000ABAAAAAA', 'items': 2, 'practice': 'M85070', 'bnf_name': 'Dorzolamide/Timolol_Eye Dps 2%/0.5%', 'nic': 3.62, 'act_cost': 3.38, 'quantity': 10, 'post_code': 'B23 6DJ'}, {'bnf_code': '1106000ABAAAAAA', 'items': 2, 'practice': 'M85669', 'bnf_name': 'Dorzolamide/Timolol_Eye Dps 2%/0.5%', 'nic': 5.56, 'act_cost': 5.17, 'quantity': 15, 'post_code': 'B23 6DJ'}, {'bnf_code': '1106000ABAAAAAA', 'items': 4, 'practice': 'M85716', 'bnf_name': 'Dorzolamide/Timolol_Eye Dps 2%/0.5%', 'nic': 9.05, 'act_cost': 8.42, 'quantity': 25, 'post_code': 'B23 6DJ'}, {'bnf_code': '1106000ABAAAAAA', 'items': 6, 'practice': 'C84096', 'bnf_name': 'Dorzolamide/Timolol_Eye Dps 2%/0.5%', 'nic': 12.67, 'act_cost': 11.8, 'quantity': 35, 'post_code': 'NG7 3GW'}, {'bnf_code': '1106000ABAAAAAA', 'items': 5, 'practice': 'C84103', 'bnf_name': 'Dorzolamide/Timolol_Eye Dps 2%/0.5%', 'nic': 10.86, 'act_cost': 10.12, 'quantity': 30, 'post_code': 'NG7 5HY'}, {'bnf_code': '1106000ABAAAAAA', 'items': 2, 'practice': 'C84105', 'bnf_name': 'Dorzolamide/Timolol_Eye Dps 2%/0.5%', 'nic': 5.43, 'act_cost': 5.05, 'quantity': 15, 'post_code': 'NG7 5HY'}, {'bnf_code': '1106000ABAAAAAA', 'items': 2, 'practice': 'C84117', 'bnf_name': 'Dorzolamide/Timolol_Eye Dps 2%/0.5%', 'nic': 7.24, 'act_cost': 6.72, 'quantity': 20, 'post_code': 'NG7 3GW'}, {'bnf_code': '1106000ABAAAAAA', 'items': 1, 'practice': 'C84136', 'bnf_name': 'Dorzolamide/Timolol_Eye Dps 2%/0.5%', 'nic': 3.62, 'act_cost': 3.36, 'quantity': 10, 'post_code': 'NG7 3GW'}, {'bnf_code': '1106000ABAAAAAA', 'items': 3, 'practice': 'C84691', 'bnf_name': 'Dorzolamide/Timolol_Eye Dps 2%/0.5%', 'nic': 7.37, 'act_cost': 6.86, 'quantity': 20, 'post_code': 'NG7 5HY'}, {'bnf_code': '1106000ABAAAAAA', 'items': 1, 'practice': 'C84714', 'bnf_name': 'Dorzolamide/Timolol_Eye Dps 2%/0.5%', 'nic': 3.62, 'act_cost': 3.36, 'quantity': 10, 'post_code': 'NG7 3GW'}, {'bnf_code': '1106000ABAAAAAA', 'items': 4, 'practice': 'D83012', 'bnf_name': 'Dorzolamide/Timolol_Eye Dps 2%/0.5%', 'nic': 27.15, 'act_cost': 25.18, 'quantity': 75, 'post_code': 'CB9 8HF'}, {'bnf_code': '1106000ABAAAAAA', 'items': 7, 'practice': 'D83021', 'bnf_name': 'Dorzolamide/Timolol_Eye Dps 2%/0.5%', 'nic': 16.29, 'act_cost': 15.16, 'quantity': 45, 'post_code': 'CB9 8HF'}, {'bnf_code': '1106000ABAAAAAA', 'items': 1, 'practice': 'F81151', 'bnf_name': 'Dorzolamide/Timolol_Eye Dps 2%/0.5%', 'nic': 3.62, 'act_cost': 3.36, 'quantity': 10, 'post_code': 'SS13 3HQ'}, {'bnf_code': '1106000ABAAAAAA', 'items': 1, 'practice': 'F81158', 'bnf_name': 'Dorzolamide/Timolol_Eye Dps 2%/0.5%', 'nic': 3.62, 'act_cost': 3.36, 'quantity': 10, 'post_code': 'SS13 3HQ'}, {'bnf_code': '1106000ABAAAAAA', 'items': 3, 'practice': 'Y00469', 'bnf_name': 'Dorzolamide/Timolol_Eye Dps 2%/0.5%', 'nic': 9.05, 'act_cost': 8.42, 'quantity': 25, 'post_code': 'SS13 3HQ'}, {'bnf_code': '1106000ABAAAAAA', 'items': 4, 'practice': 'F81070', 'bnf_name': 'Dorzolamide/Timolol_Eye Dps 2%/0.5%', 'nic': 10.86, 'act_cost': 10.11, 'quantity': 30, 'post_code': 'SS8 0JA'}, {'bnf_code': '1106000ABAAAAAA', 'items': 7, 'practice': 'F81096', 'bnf_name': 'Dorzolamide/Timolol_Eye Dps 2%/0.5%', 'nic': 23.53, 'act_cost': 21.86, 'quantity': 65, 'post_code': 'SS8 0JA'}, {'bnf_code': '1106000ABAAAAAA', 'items': 1, 'practice': 'F81739', 'bnf_name': 'Dorzolamide/Timolol_Eye Dps 2%/0.5%', 'nic': 3.62, 'act_cost': 3.36, 'quantity': 10, 'post_code': 'SS8 0JA'}, {'bnf_code': '1106000ABAAAAAA', 'items': 1, 'practice': 'F81740', 'bnf_name': 'Dorzolamide/Timolol_Eye Dps 2%/0.5%', 'nic': 3.62, 'act_cost': 3.36, 'quantity': 10, 'post_code': 'SS8 0JA'}, {'bnf_code': '1106000ABAAAAAA', 'items': 1, 'practice': 'F81046', 'bnf_name': 'Dorzolamide/Timolol_Eye Dps 2%/0.5%', 'nic': 3.62, 'act_cost': 3.36, 'quantity': 10, 'post_code': 'SS9 5UU'}, {'bnf_code': '1106000ABAAAAAA', 'items': 4, 'practice': 'F81128', 'bnf_name': 'Dorzolamide/Timolol_Eye Dps 2%/0.5%', 'nic': 14.48, 'act_cost': 13.45, 'quantity': 40, 'post_code': 'SS9 5UU'}, {'bnf_code': '1106000ABAAAAAA', 'items': 6, 'practice': 'F81147', 'bnf_name': 'Dorzolamide/Timolol_Eye Dps 2%/0.5%', 'nic': 18.1, 'act_cost': 16.83, 'quantity': 50, 'post_code': 'SS0 7AF'}, {'bnf_code': '1106000ABAAAAAA', 'items': 4, 'practice': 'F81164', 'bnf_name': 'Dorzolamide/Timolol_Eye Dps 2%/0.5%', 'nic': 12.67, 'act_cost': 11.78, 'quantity': 35, 'post_code': 'SS0 7AF'}, {'bnf_code': '1106000ABAAAAAA', 'items': 3, 'practice': 'F81223', 'bnf_name': 'Dorzolamide/Timolol_Eye Dps 2%/0.5%', 'nic': 10.86, 'act_cost': 10.09, 'quantity': 30, 'post_code': 'SS9 5UU'}, {'bnf_code': '1106000ABAAAAAA', 'items': 1, 'practice': 'F81724', 'bnf_name': 'Dorzolamide/Timolol_Eye Dps 2%/0.5%', 'nic': 1.81, 'act_cost': 1.69, 'quantity': 5, 'post_code': 'SS0 7AF'}, {'bnf_code': '1106000ABAAAAAA', 'items': 5, 'practice': 'K83013', 'bnf_name': 'Dorzolamide/Timolol_Eye Dps 2%/0.5%', 'nic': 10.86, 'act_cost': 10.12, 'quantity': 30, 'post_code': 'NN16 8DN'}, {'bnf_code': '1106000ABAAAAAA', 'items': 2, 'practice': 'K83051', 'bnf_name': 'Dorzolamide/Timolol_Eye Dps 2%/0.5%', 'nic': 7.24, 'act_cost': 6.73, 'quantity': 20, 'post_code': 'NN16 8DN'}, {'bnf_code': '1106000ABAAAAAA', 'items': 4, 'practice': 'E82045', 'bnf_name': 'Dorzolamide/Timolol_Eye Dps 2%/0.5%', 'nic': 7.24, 'act_cost': 6.75, 'quantity': 20, 'post_code': 'WD18 0JP'}, {'bnf_code': '1106000ABAAAAAA', 'items': 3, 'practice': 'E82603', 'bnf_name': 'Dorzolamide/Timolol_Eye Dps 2%/0.5%', 'nic': 5.43, 'act_cost': 5.06, 'quantity': 15, 'post_code': 'WD18 0JP'}, {'bnf_code': '1106000ABAAAAAA', 'items': 2, 'practice': 'E82613', 'bnf_name': 'Dorzolamide/Timolol_Eye Dps 2%/0.5%', 'nic': 9.05, 'act_cost': 8.4, 'quantity': 25, 'post_code': 'WD18 0JP'}, {'bnf_code': '1106000ABAAAAAA', 'items': 1, 'practice': 'E82656', 'bnf_name': 'Dorzolamide/Timolol_Eye Dps 2%/0.5%', 'nic': 5.43, 'act_cost': 5.04, 'quantity': 15, 'post_code': 'WD18 0JP'}, {'bnf_code': '1106000ABAAAAAA', 'items': 3, 'practice': 'C82013', 'bnf_name': 'Dorzolamide/Timolol_Eye Dps 2%/0.5%', 'nic': 9.05, 'act_cost': 8.41, 'quantity': 25, 'post_code': 'LE18 2EW'}, {'bnf_code': '1106000ABAAAAAA', 'items': 6, 'practice': 'C82071', 'bnf_name': 'Dorzolamide/Timolol_Eye Dps 2%/0.5%', 'nic': 10.86, 'act_cost': 10.13, 'quantity': 30, 'post_code': 'LE18 2EW'}, {'bnf_code': '1106000ABAAAAAA', 'items': 2, 'practice': 'C82667', 'bnf_name': 'Dorzolamide/Timolol_Eye Dps 2%/0.5%', 'nic': 9.05, 'act_cost': 8.4, 'quantity': 25, 'post_code': 'LE5 3GH'}, {'bnf_code': '1106000ABAAAAAA', 'items': 3, 'practice': 'Y02469', 'bnf_name': 'Dorzolamide/Timolol_Eye Dps 2%/0.5%', 'nic': 9.05, 'act_cost': 8.42, 'quantity': 25, 'post_code': 'LE5 3GH'}, {'bnf_code': '1106000ABAAAAAA', 'items': 4, 'practice': 'C83009', 'bnf_name': 'Dorzolamide/Timolol_Eye Dps 2%/0.5%', 'nic': 10.86, 'act_cost': 10.1, 'quantity': 30, 'post_code': 'LN2 2JP'}, {'bnf_code': '1106000ABAAAAAA', 'items': 6, 'practice': 'C83072', 'bnf_name': 'Dorzolamide/Timolol_Eye Dps 2%/0.5%', 'nic': 14.48, 'act_cost': 13.48, 'quantity': 40, 'post_code': 'LN2 2JP'}, {'bnf_code': '1106000ABAAAAAA', 'items': 1, 'practice': 'C82047', 'bnf_name': 'Dorzolamide/Timolol_Eye Dps 2%/0.5%', 'nic': 1.81, 'act_cost': 1.69, 'quantity': 5, 'post_code': 'LE10 1DS'}, {'bnf_code': '1106000ABAAAAAA', 'items': 2, 'practice': 'C82075', 'bnf_name': 'Dorzolamide/Timolol_Eye Dps 2%/0.5%', 'nic': 5.43, 'act_cost': 5.05, 'quantity': 15, 'post_code': 'LE10 1DS'}, {'bnf_code': '1106000ABAAAAAA', 'items': 1, 'practice': 'C82082', 'bnf_name': 'Dorzolamide/Timolol_Eye Dps 2%/0.5%', 'nic': 1.81, 'act_cost': 1.69, 'quantity': 5, 'post_code': 'LE10 1DS'}, {'bnf_code': '1106000ABAAAAAA', 'items': 1, 'practice': 'M83100', 'bnf_name': 'Dorzolamide/Timolol_Eye Dps 2%/0.5%', 'nic': 3.62, 'act_cost': 3.36, 'quantity': 10, 'post_code': 'ST3 6AB'}, {'bnf_code': '1106000ABAAAAAA', 'items': 2, 'practice': 'M83713', 'bnf_name': 'Dorzolamide/Timolol_Eye Dps 2%/0.5%', 'nic': 9.05, 'act_cost': 8.4, 'quantity': 25, 'post_code': 'ST3 6AB'}, {'bnf_code': '1106000ABAAAAAA', 'items': 3, 'practice': 'Y02521', 'bnf_name': 'Dorzolamide/Timolol_Eye Dps 2%/0.5%', 'nic': 5.43, 'act_cost': 5.07, 'quantity': 15, 'post_code': 'ST3 6AB'}, {'bnf_code': '1106000ABAAAAAA', 'items': 12, 'practice': 'F85002', 'bnf_name': 'Dorzolamide/Timolol_Eye Dps 2%/0.5%', 'nic': 38.01, 'act_cost': 35.35, 'quantity': 105, 'post_code': 'N9 7HD'}, {'bnf_code': '1106000ABAAAAAA', 'items': 4, 'practice': 'F85044', 'bnf_name': 'Dorzolamide/Timolol_Eye Dps 2%/0.5%', 'nic': 9.05, 'act_cost': 8.42, 'quantity': 25, 'post_code': 'N9 7HD'}, {'bnf_code': '1106000ABAAAAAA', 'items': 1, 'practice': 'F85676', 'bnf_name': 'Dorzolamide/Timolol_Eye Dps 2%/0.5%', 'nic': 1.81, 'act_cost': 1.69, 'quantity': 5, 'post_code': 'N9 7HD'}, {'bnf_code': '1106000ABAAAAAA', 'items': 1, 'practice': 'F82014', 'bnf_name': 'Dorzolamide/Timolol_Eye Dps 2%/0.5%', 'nic': 3.62, 'act_cost': 3.36, 'quantity': 10, 'post_code': 'RM3 9SU'}, {'bnf_code': '1106000ABAAAAAA', 'items': 1, 'practice': 'F82670', 'bnf_name': 'Dorzolamide/Timolol_Eye Dps 2%/0.5%', 'nic': 3.62, 'act_cost': 3.36, 'quantity': 10, 'post_code': 'RM3 9SU'}, {'bnf_code': '1106000ABAAAAAA', 'items': 2, 'practice': 'E84003', 'bnf_name': 'Dorzolamide/Timolol_Eye Dps 2%/0.5%', 'nic': 7.24, 'act_cost': 6.72, 'quantity': 20, 'post_code': 'HA0 4UZ'}, {'bnf_code': '1106000ABAAAAAA', 'items': 5, 'practice': 'E84028', 'bnf_name': 'Dorzolamide/Timolol_Eye Dps 2%/0.5%', 'nic': 12.67, 'act_cost': 11.8, 'quantity': 35, 'post_code': 'NW10 8RY'}, {'bnf_code': '1106000ABAAAAAA', 'items': 5, 'practice': 'E84029', 'bnf_name': 'Dorzolamide/Timolol_Eye Dps 2%/0.5%', 'nic': 10.86, 'act_cost': 10.11, 'quantity': 30, 'post_code': 'NW10 8RY'}, {'bnf_code': '1106000ABAAAAAA', 'items': 1, 'practice': 'E84637', 'bnf_name': 'Dorzolamide/Timolol_Eye Dps 2%/0.5%', 'nic': 3.62, 'act_cost': 3.36, 'quantity': 10, 'post_code': 'NW10 8RY'}, {'bnf_code': '1106000ABAAAAAA', 'items': 2, 'practice': 'E84701', 'bnf_name': 'Dorzolamide/Timolol_Eye Dps 2%/0.5%', 'nic': 14.48, 'act_cost': 13.43, 'quantity': 40, 'post_code': 'HA0 4UZ'}, {'bnf_code': '1106000ABAAAAAA', 'items': 1, 'practice': 'Y02692', 'bnf_name': 'Dorzolamide/Timolol_Eye Dps 2%/0.5%', 'nic': 5.43, 'act_cost': 5.04, 'quantity': 15, 'post_code': 'HA0 4UZ'}, {'bnf_code': '1106000ABAAAAAA', 'items': 7, 'practice': 'E85004', 'bnf_name': 'Dorzolamide/Timolol_Eye Dps 2%/0.5%', 'nic': 30.77, 'act_cost': 28.57, 'quantity': 85, 'post_code': 'TW8 8DS'}, {'bnf_code': '1106000ABAAAAAA', 'items': 4, 'practice': 'E85056', 'bnf_name': 'Dorzolamide/Timolol_Eye Dps 2%/0.5%', 'nic': 9.05, 'act_cost': 8.43, 'quantity': 25, 'post_code': 'TW13 4GU'}, {'bnf_code': '1106000ABAAAAAA', 'items': 2, 'practice': 'E85058', 'bnf_name': 'Dorzolamide/Timolol_Eye Dps 2%/0.5%', 'nic': 7.24, 'act_cost': 6.73, 'quantity': 20, 'post_code': 'TW3 3LN'}, {'bnf_code': '1106000ABAAAAAA', 'items': 4, 'practice': 'E85059', 'bnf_name': 'Dorzolamide/Timolol_Eye Dps 2%/0.5%', 'nic': 12.67, 'act_cost': 11.78, 'quantity': 35, 'post_code': 'TW3 3LN'}, {'bnf_code': '1106000ABAAAAAA', 'items': 4, 'practice': 'E85126', 'bnf_name': 'Dorzolamide/Timolol_Eye Dps 2%/0.5%', 'nic': 19.91, 'act_cost': 18.48, 'quantity': 55, 'post_code': 'TW3 3LN'}, {'bnf_code': '1106000ABAAAAAA', 'items': 10, 'practice': 'E85605', 'bnf_name': 'Dorzolamide/Timolol_Eye Dps 2%/0.5%', 'nic': 39.82, 'act_cost': 36.98, 'quantity': 110, 'post_code': 'TW8 8DS'}, {'bnf_code': '1106000ABAAAAAA', 'items': 2, 'practice': 'E85700', 'bnf_name': 'Dorzolamide/Timolol_Eye Dps 2%/0.5%', 'nic': 10.86, 'act_cost': 10.08, 'quantity': 30, 'post_code': 'TW13 4GU'}, {'bnf_code': '1106000ABAAAAAA', 'items': 1, 'practice': 'E85732', 'bnf_name': 'Dorzolamide/Timolol_Eye Dps 2%/0.5%', 'nic': 3.62, 'act_cost': 3.36, 'quantity': 10, 'post_code': 'TW8 8DS'}, {'bnf_code': '1106000ABAAAAAA', 'items': 4, 'practice': 'E85734', 'bnf_name': 'Dorzolamide/Timolol_Eye Dps 2%/0.5%', 'nic': 21.72, 'act_cost': 20.16, 'quantity': 60, 'post_code': 'TW13 4GU'}, {'bnf_code': '1106000ABAAAAAA', 'items': 5, 'practice': 'Y02672', 'bnf_name': 'Dorzolamide/Timolol_Eye Dps 2%/0.5%', 'nic': 9.05, 'act_cost': 8.44, 'quantity': 25, 'post_code': 'TW13 4GU'}, {'bnf_code': '1106000ABAAAAAA', 'items': 13, 'practice': 'E84004', 'bnf_name': 'Dorzolamide/Timolol_Eye Dps 2%/0.5%', 'nic': 47.06, 'act_cost': 43.71, 'quantity': 130, 'post_code': 'HA3 7LT'}, {'bnf_code': '1106000ABAAAAAA', 'items': 8, 'practice': 'E84069', 'bnf_name': 'Dorzolamide/Timolol_Eye Dps 2%/0.5%', 'nic': 18.1, 'act_cost': 16.85, 'quantity': 50, 'post_code': 'HA3 7LT'}, {'bnf_code': '1106000ABAAAAAA', 'items': 4, 'practice': 'E84713', 'bnf_name': 'Dorzolamide/Timolol_Eye Dps 2%/0.5%', 'nic': 12.67, 'act_cost': 11.78, 'quantity': 35, 'post_code': 'HA3 7LT'}, {'bnf_code': '1106000ABAAAAAA', 'items': 2, 'practice': 'E87733', 'bnf_name': 'Dorzolamide/Timolol_Eye Dps 2%/0.5%', 'nic': 3.75, 'act_cost': 3.5, 'quantity': 10, 'post_code': 'W10 6DZ'}, {'bnf_code': '1106000ABAAAAAA', 'items': 1, 'practice': 'Y01011', 'bnf_name': 'Dorzolamide/Timolol_Eye Dps 2%/0.5%', 'nic': 5.43, 'act_cost': 5.04, 'quantity': 15, 'post_code': 'W10 6DZ'}, {'bnf_code': '1106000ABAAAAAA', 'items': 3, 'practice': 'H84015', 'bnf_name': 'Dorzolamide/Timolol_Eye Dps 2%/0.5%', 'nic': 7.24, 'act_cost': 6.74, 'quantity': 20, 'post_code': 'KT6 6EZ'}, {'bnf_code': '1106000ABAAAAAA', 'items': 9, 'practice': 'H84030', 'bnf_name': 'Dorzolamide/Timolol_Eye Dps 2%/0.5%', 'nic': 25.34, 'act_cost': 23.57, 'quantity': 70, 'post_code': 'KT6 6EZ'}, {'bnf_code': '1106000ABAAAAAA', 'items': 5, 'practice': 'H84053', 'bnf_name': 'Dorzolamide/Timolol_Eye Dps 2%/0.5%', 'nic': 9.05, 'act_cost': 8.44, 'quantity': 25, 'post_code': 'KT6 6EZ'}, {'bnf_code': '1106000ABAAAAAA', 'items': 3, 'practice': 'H84062', 'bnf_name': 'Dorzolamide/Timolol_Eye Dps 2%/0.5%', 'nic': 9.05, 'act_cost': 8.41, 'quantity': 25, 'post_code': 'KT6 6EZ'}, {'bnf_code': '1106000ABAAAAAA', 'items': 21, 'practice': 'G85012', 'bnf_name': 'Dorzolamide/Timolol_Eye Dps 2%/0.5%', 'nic': 76.02, 'act_cost': 70.64, 'quantity': 210, 'post_code': 'SE1 6JP'}, {'bnf_code': '1106000ABAAAAAA', 'items': 8, 'practice': 'G85034', 'bnf_name': 'Dorzolamide/Timolol_Eye Dps 2%/0.5%', 'nic': 30.77, 'act_cost': 28.58, 'quantity': 85, 'post_code': 'SE1 6JP'}, {'bnf_code': '1106000ABAAAAAA', 'items': 6, 'practice': 'G85095', 'bnf_name': 'Dorzolamide/Timolol_Eye Dps 2%/0.5%', 'nic': 19.91, 'act_cost': 18.51, 'quantity': 55, 'post_code': 'SE1 6JP'}, {'bnf_code': '1106000ABAAAAAA', 'items': 6, 'practice': 'G85134', 'bnf_name': 'Dorzolamide/Timolol_Eye Dps 2%/0.5%', 'nic': 19.91, 'act_cost': 18.51, 'quantity': 55, 'post_code': 'SE15 5LJ'}, {'bnf_code': '1106000ABAAAAAA', 'items': 1, 'practice': 'G85715', 'bnf_name': 'Dorzolamide/Timolol_Eye Dps 2%/0.5%', 'nic': 1.81, 'act_cost': 1.69, 'quantity': 5, 'post_code': 'SE15 5LJ'}, {'bnf_code': '1106000ABAAAAAA', 'items': 4, 'practice': 'G85723', 'bnf_name': 'Dorzolamide/Timolol_Eye Dps 2%/0.5%', 'nic': 9.05, 'act_cost': 8.43, 'quantity': 25, 'post_code': 'SE15 5LJ'}, {'bnf_code': '1106000ABAAAAAA', 'items': 2, 'practice': 'Y04690', 'bnf_name': 'Dorzolamide/Timolol_Eye Dps 2%/0.5%', 'nic': 5.43, 'act_cost': 5.05, 'quantity': 15, 'post_code': 'SE15 5LJ'}, {'bnf_code': '1106000ABAAAAAA', 'items': 1, 'practice': 'H85019', 'bnf_name': 'Dorzolamide/Timolol_Eye Dps 2%/0.5%', 'nic': 1.81, 'act_cost': 1.69, 'quantity': 5, 'post_code': 'SM3 8EP'}, {'bnf_code': '1106000ABAAAAAA', 'items': 3, 'practice': 'H85054', 'bnf_name': 'Dorzolamide/Timolol_Eye Dps 2%/0.5%', 'nic': 9.05, 'act_cost': 8.42, 'quantity': 25, 'post_code': 'SM3 8EP'}, {'bnf_code': '1106000ABAAAAAA', 'items': 2, 'practice': 'H85063', 'bnf_name': 'Dorzolamide/Timolol_Eye Dps 2%/0.5%', 'nic': 3.62, 'act_cost': 3.38, 'quantity': 10, 'post_code': 'SM3 8EP'}, {'bnf_code': '1106000ABAAAAAA', 'items': 8, 'practice': 'H85115', 'bnf_name': 'Dorzolamide/Timolol_Eye Dps 2%/0.5%', 'nic': 25.34, 'act_cost': 23.56, 'quantity': 70, 'post_code': 'SM6 0HY'}, {'bnf_code': '1106000ABAAAAAA', 'items': 8, 'practice': 'H85653', 'bnf_name': 'Dorzolamide/Timolol_Eye Dps 2%/0.5%', 'nic': 14.48, 'act_cost': 13.51, 'quantity': 40, 'post_code': 'SM6 0HY'}, {'bnf_code': '1106000ABAAAAAA', 'items': 5, 'practice': 'L84008', 'bnf_name': 'Dorzolamide/Timolol_Eye Dps 2%/0.5%', 'nic': 18.1, 'act_cost': 16.83, 'quantity': 50, 'post_code': 'GL50 4DP'}, {'bnf_code': '1106000ABAAAAAA', 'items': 3, 'practice': 'L84026', 'bnf_name': 'Dorzolamide/Timolol_Eye Dps 2%/0.5%', 'nic': 7.24, 'act_cost': 6.74, 'quantity': 20, 'post_code': 'GL1 3PX'}, {'bnf_code': '1106000ABAAAAAA', 'items': 7, 'practice': 'L84033', 'bnf_name': 'Dorzolamide/Timolol_Eye Dps 2%/0.5%', 'nic': 16.29, 'act_cost': 15.17, 'quantity': 45, 'post_code': 'GL50 4DP'}, {'bnf_code': '1106000ABAAAAAA', 'items': 4, 'practice': 'L84042', 'bnf_name': 'Dorzolamide/Timolol_Eye Dps 2%/0.5%', 'nic': 10.86, 'act_cost': 10.1, 'quantity': 30, 'post_code': 'GL1 3PX'}, {'bnf_code': '1106000ABAAAAAA', 'items': 3, 'practice': 'L84049', 'bnf_name': 'Dorzolamide/Timolol_Eye Dps 2%/0.5%', 'nic': 12.67, 'act_cost': 11.77, 'quantity': 35, 'post_code': 'GL50 4DP'}, {'bnf_code': '1106000ABAAAAAA', 'items': 4, 'practice': 'L84056', 'bnf_name': 'Dorzolamide/Timolol_Eye Dps 2%/0.5%', 'nic': 12.67, 'act_cost': 11.78, 'quantity': 35, 'post_code': 'GL50 4DP'}, {'bnf_code': '1106000ABAAAAAA', 'items': 4, 'practice': 'L84057', 'bnf_name': 'Dorzolamide/Timolol_Eye Dps 2%/0.5%', 'nic': 12.67, 'act_cost': 11.78, 'quantity': 35, 'post_code': 'GL1 3PX'}, {'bnf_code': '1106000ABAAAAAA', 'items': 4, 'practice': 'L84058', 'bnf_name': 'Dorzolamide/Timolol_Eye Dps 2%/0.5%', 'nic': 10.86, 'act_cost': 10.1, 'quantity': 30, 'post_code': 'GL50 4DP'}, {'bnf_code': '1106000ABAAAAAA', 'items': 3, 'practice': 'L82001', 'bnf_name': 'Dorzolamide/Timolol_Eye Dps 2%/0.5%', 'nic': 7.24, 'act_cost': 6.74, 'quantity': 20, 'post_code': 'TR1 2JA'}, {'bnf_code': '1106000ABAAAAAA', 'items': 12, 'practice': 'L82028', 'bnf_name': 'Dorzolamide/Timolol_Eye Dps 2%/0.5%', 'nic': 23.53, 'act_cost': 21.94, 'quantity': 65, 'post_code': 'TR1 2JA'}, {'bnf_code': '1106000ABAAAAAA', 'items': 8, 'practice': 'L83008', 'bnf_name': 'Dorzolamide/Timolol_Eye Dps 2%/0.5%', 'nic': 23.53, 'act_cost': 21.88, 'quantity': 65, 'post_code': 'PL7 1AD'}, {'bnf_code': '1106000ABAAAAAA', 'items': 22, 'practice': 'L83100', 'bnf_name': 'Dorzolamide/Timolol_Eye Dps 2%/0.5%', 'nic': 63.35, 'act_cost': 58.93, 'quantity': 175, 'post_code': 'PL7 1AD'}, {'bnf_code': '1106000ABAAAAAA', 'items': 2, 'practice': 'G82044', 'bnf_name': 'Dorzolamide/Timolol_Eye Dps 2%/0.5%', 'nic': 9.05, 'act_cost': 8.4, 'quantity': 25, 'post_code': 'DA11 8BZ'}, {'bnf_code': '1106000ABAAAAAA', 'items': 4, 'practice': 'G82056', 'bnf_name': 'Dorzolamide/Timolol_Eye Dps 2%/0.5%', 'nic': 7.24, 'act_cost': 6.76, 'quantity': 20, 'post_code': 'DA1 2HA'}, {'bnf_code': '1106000ABAAAAAA', 'items': 3, 'practice': 'G82185', 'bnf_name': 'Dorzolamide/Timolol_Eye Dps 2%/0.5%', 'nic': 10.86, 'act_cost': 10.09, 'quantity': 30, 'post_code': 'DA1 2HA'}, {'bnf_code': '1106000ABAAAAAA', 'items': 1, 'practice': 'G82639', 'bnf_name': 'Dorzolamide/Timolol_Eye Dps 2%/0.5%', 'nic': 1.81, 'act_cost': 1.69, 'quantity': 5, 'post_code': 'DA1 2HA'}, {'bnf_code': '1106000ABAAAAAA', 'items': 4, 'practice': 'Y02826', 'bnf_name': 'Dorzolamide/Timolol_Eye Dps 2%/0.5%', 'nic': 14.48, 'act_cost': 13.45, 'quantity': 40, 'post_code': 'DA11 8BZ'}, {'bnf_code': '1106000ABAAAAAA', 'items': 6, 'practice': 'G82162', 'bnf_name': 'Dorzolamide/Timolol_Eye Dps 2%/0.5%', 'nic': 18.1, 'act_cost': 16.83, 'quantity': 50, 'post_code': 'ME8 8AA'}, {'bnf_code': '1106000ABAAAAAA', 'items': 7, 'practice': 'G82704', 'bnf_name': 'Dorzolamide/Timolol_Eye Dps 2%/0.5%', 'nic': 28.96, 'act_cost': 26.89, 'quantity': 80, 'post_code': 'ME8 8AA'}, {'bnf_code': '1106000ABAAAAAA', 'items': 6, 'practice': 'G82727', 'bnf_name': 'Dorzolamide/Timolol_Eye Dps 2%/0.5%', 'nic': 12.67, 'act_cost': 11.8, 'quantity': 35, 'post_code': 'ME8 8AA'}, {'bnf_code': '1106000ABAAAAAA', 'items': 13, 'practice': 'G82020', 'bnf_name': 'Dorzolamide/Timolol_Eye Dps 2%/0.5%', 'nic': 36.2, 'act_cost': 33.67, 'quantity': 100, 'post_code': 'CT11 8AD'}, {'bnf_code': '1106000ABAAAAAA', 'items': 9, 'practice': 'G82126', 'bnf_name': 'Dorzolamide/Timolol_Eye Dps 2%/0.5%', 'nic': 23.53, 'act_cost': 21.9, 'quantity': 65, 'post_code': 'CT11 8AD'}, {'bnf_code': '1106000ABAAAAAA', 'items': 11, 'practice': 'G81013', 'bnf_name': 'Dorzolamide/Timolol_Eye Dps 2%/0.5%', 'nic': 19.91, 'act_cost': 18.57, 'quantity': 55, 'post_code': 'TN34 1BA'}, {'bnf_code': '1106000ABAAAAAA', 'items': 12, 'practice': 'G81658', 'bnf_name': 'Dorzolamide/Timolol_Eye Dps 2%/0.5%', 'nic': 34.39, 'act_cost': 31.99, 'quantity': 95, 'post_code': 'TN34 1BA'}, {'bnf_code': '1106000ABAAAAAA', 'items': 1, 'practice': 'Y03051', 'bnf_name': 'Dorzolamide/Timolol_Eye Dps 2%/0.5%', 'nic': 1.81, 'act_cost': 1.69, 'quantity': 5, 'post_code': 'TN34 1BA'}, {'bnf_code': '1106000ABAAAAAA', 'items': 4, 'practice': 'H81034', 'bnf_name': 'Dorzolamide/Timolol_Eye Dps 2%/0.5%', 'nic': 18.1, 'act_cost': 16.8, 'quantity': 50, 'post_code': 'KT14 6DH'}, {'bnf_code': '1106000ABAAAAAA', 'items': 11, 'practice': 'H81036', 'bnf_name': 'Dorzolamide/Timolol_Eye Dps 2%/0.5%', 'nic': 34.39, 'act_cost': 31.97, 'quantity': 95, 'post_code': 'KT14 6DH'}, {'bnf_code': '1106000ABAAAAAA', 'items': 6, 'practice': 'H81050', 'bnf_name': 'Dorzolamide/Timolol_Eye Dps 2%/0.5%', 'nic': 18.1, 'act_cost': 16.83, 'quantity': 50, 'post_code': 'KT14 6DH'}, {'bnf_code': '1106000ABAAAAAA', 'items': 16, 'practice': 'J81041', 'bnf_name': 'Dorzolamide/Timolol_Eye Dps 2%/0.5%', 'nic': 38.01, 'act_cost': 35.39, 'quantity': 105, 'post_code': 'BH18 8EE'}, {'bnf_code': '1106000ABAAAAAA', 'items': 12, 'practice': 'J81043', 'bnf_name': 'Dorzolamide/Timolol_Eye Dps 2%/0.5%', 'nic': 25.34, 'act_cost': 23.61, 'quantity': 70, 'post_code': 'BH23 3AF'}, {'bnf_code': '1106000ABAAAAAA', 'items': 12, 'practice': 'J81046', 'bnf_name': 'Dorzolamide/Timolol_Eye Dps 2%/0.5%', 'nic': 39.82, 'act_cost': 36.99, 'quantity': 110, 'post_code': 'BH18 8EE'}, {'bnf_code': '1106000ABAAAAAA', 'items': 8, 'practice': 'J81056', 'bnf_name': 'Dorzolamide/Timolol_Eye Dps 2%/0.5%', 'nic': 18.1, 'act_cost': 16.86, 'quantity': 50, 'post_code': 'BH23 3AF'}, {'bnf_code': '1106000ABAAAAAA', 'items': 6, 'practice': 'J81057', 'bnf_name': 'Dorzolamide/Timolol_Eye Dps 2%/0.5%', 'nic': 12.67, 'act_cost': 11.81, 'quantity': 35, 'post_code': 'BH23 3AF'}, {'bnf_code': '1106000ABAAAAAA', 'items': 6, 'practice': 'H81027', 'bnf_name': 'Dorzolamide/Timolol_Eye Dps 2%/0.5%', 'nic': 23.53, 'act_cost': 21.85, 'quantity': 65, 'post_code': 'GU9 9QS'}, {'bnf_code': '1106000ABAAAAAA', 'items': 13, 'practice': 'H81097', 'bnf_name': 'Dorzolamide/Timolol_Eye Dps 2%/0.5%', 'nic': 34.39, 'act_cost': 32.0, 'quantity': 95, 'post_code': 'GU9 9QS'}, {'bnf_code': '1106000ABAAAAAA', 'items': 11, 'practice': 'H81615', 'bnf_name': 'Dorzolamide/Timolol_Eye Dps 2%/0.5%', 'nic': 43.44, 'act_cost': 40.34, 'quantity': 120, 'post_code': 'GU9 9QS'}])\n"
     ]
    }
   ],
   "source": [
    "print(list(groups.items())[0])"
   ]
  },
  {
   "cell_type": "code",
   "execution_count": 70,
   "metadata": {},
   "outputs": [],
   "source": [
    "groups = group_by_field(scripts, ('bnf_name',))\n",
    "\n",
    "items = [(name, sum([d['items'] for d in group]))\n",
    "        for name, group in groups.items()]\n",
    "test_max_item = max(items, key=lambda tup: tup[1])\n",
    "\n",
    "test_max_item = [(test_max_item[0][0], test_max_item[1])]\n",
    "\n",
    "assert test_max_item == max_item"
   ]
  },
  {
   "cell_type": "markdown",
   "metadata": {},
   "source": [
    "## Question 3: postal_totals\n",
    "\n",
    "Our data set is broken up among different files. This is typical for tabular data to reduce redundancy. Each table typically contains data about a particular type of event, processes, or physical object. Data on prescriptions and medical practices are in separate files in our case. If we want to find the total items prescribed in each postal code, we will have to _join_ our prescription data (`scripts`) to our clinic data (`practices`).\n",
    "\n",
    "Find the total items prescribed in each postal code, representing the results as a list of tuples `(post code, total items prescribed)`. Sort your results ascending alphabetically by post code and take only results from the first 100 post codes. Only include post codes if there is at least one prescription from a practice in that post code.\n",
    "\n",
    "**NOTE:** Some practices have multiple postal codes associated with them. Use the alphabetically first postal code."
   ]
  },
  {
   "cell_type": "markdown",
   "metadata": {},
   "source": [
    "We can join `scripts` and `practices` based on the fact that `'practice'` in `scripts` matches `'code'` in `practices`. However, we must first deal with the repeated values of `'code'` in `practices`. We want the alphabetically first postal codes."
   ]
  },
  {
   "cell_type": "code",
   "execution_count": 112,
   "metadata": {},
   "outputs": [],
   "source": [
    "practice_postal = {}\n",
    "for practice in practices:\n",
    "    if practice['code'] in practice_postal:\n",
    "        practice_postal[practice['code']] = practice['post_code'] if practice['post_code'] < practice_postal[practice['code']] else practice_postal[practice['code']]\n",
    "    else:\n",
    "        practice_postal[practice['code']] = practice['post_code']"
   ]
  },
  {
   "cell_type": "markdown",
   "metadata": {},
   "source": [
    "**Challenge:** This is an aggregation of the practice data grouped by practice codes. Write an alternative implementation of the above cell using the `group_by_field` function you defined previously."
   ]
  },
  {
   "cell_type": "code",
   "execution_count": 113,
   "metadata": {},
   "outputs": [],
   "source": [
    "assert practice_postal['K82019'] == 'HP21 8TR'"
   ]
  },
  {
   "cell_type": "markdown",
   "metadata": {},
   "source": [
    "Now we can join `practice_postal` to `scripts`."
   ]
  },
  {
   "cell_type": "code",
   "execution_count": 114,
   "metadata": {},
   "outputs": [],
   "source": [
    "joined = scripts[:]\n",
    "for script in joined:\n",
    "    script['post_code'] = practice_postal[script['practice']]"
   ]
  },
  {
   "cell_type": "markdown",
   "metadata": {},
   "source": [
    "Finally we'll group the prescription dictionaries in `joined` by `'post_code'` and sum up the items prescribed in each group, as we did in the previous question."
   ]
  },
  {
   "cell_type": "code",
   "execution_count": 115,
   "metadata": {},
   "outputs": [],
   "source": [
    "items_by_post = {}\n",
    "for join in joined:\n",
    "    if join['post_code'] in items_by_post:\n",
    "        items_by_post[join['post_code']]=items_by_post[join['post_code']]+join['items']\n",
    "    else:\n",
    "        items_by_post[join['post_code']]=join['items']"
   ]
  },
  {
   "cell_type": "code",
   "execution_count": 116,
   "metadata": {},
   "outputs": [],
   "source": [
    "sort_ = sorted(items_by_post)\n",
    "postal_total = []\n",
    "for key in sort_:\n",
    "    postal_total.append((key, items_by_post[key]))"
   ]
  },
  {
   "cell_type": "code",
   "execution_count": 117,
   "metadata": {},
   "outputs": [
    {
     "name": "stdout",
     "output_type": "stream",
     "text": [
      "==================\n",
      "Your score: 1.000\n",
      "==================\n"
     ]
    }
   ],
   "source": [
    "postal_totals = [('B11 4BW', 20673)] * 100\n",
    "postal_totals = postal_total[:100]\n",
    "\n",
    "grader.score.pw__postal_totals(postal_totals)"
   ]
  },
  {
   "cell_type": "markdown",
   "metadata": {},
   "source": [
    "## Question 4: items_by_region\n",
    "\n",
    "Now we'll combine the techniques we've developed to answer a more complex question. Find the most commonly dispensed item in each postal code, representing the results as a list of tuples (`post_code`, `bnf_name`, amount dispensed as proportion of total). Sort your results ascending alphabetically by post code and take only results from the first 100 post codes.\n",
    "\n",
    "**NOTE:** We'll continue to use the `joined` variable we created before, where we've chosen the alphabetically first postal code for each practice. Additionally, some postal codes will have multiple `'bnf_name'` with the same number of items prescribed for the maximum. In this case, we'll take the alphabetically first `'bnf_name'`.\n",
    "\n",
    "There are several approaches to solve this problem but we will guide you through one of them. Feel free to solve it your own way if it is easier for you to understand and implement. If your kernel keeps on dying, it's probably an indication that you are running out of memory. Consider deleting objects you don't need anymore using the `del` statement and shutdown any other running notebooks. For example:\n",
    "```Python\n",
    "del some_object_not_needed\n",
    "```"
   ]
  },
  {
   "cell_type": "markdown",
   "metadata": {},
   "source": [
    "The first step is to calculate the total items for each `'post_code'` and `'bnf_name'`. Let's call that result `total_items_by_post_bnf`. Consider what is the best data structure(s) to represent `total_items_by_post_bnf`. It should have 141196 `('post_code', 'bnf_name')` groups."
   ]
  },
  {
   "cell_type": "code",
   "execution_count": 118,
   "metadata": {},
   "outputs": [],
   "source": [
    "def group_by_field(data, fields):\n",
    "    names={tuple(dict_[field] for field in fields)\n",
    "          for dict_ in data}\n",
    "    groups= {name: [] for name in names}\n",
    "    for dict_ in data:\n",
    "        name = tuple(dict_[field] for field in fields)\n",
    "        groups[name].append(dict_)\n",
    "    return groups"
   ]
  },
  {
   "cell_type": "markdown",
   "metadata": {},
   "source": [
    "Next, let's take `total_items_by_post_bnf` and group it by `'post_code'`. In other words, we want a  data structure that maps a `'post_code'` to a list of all records that belong to that `'post_code'`. There should be 118 groups."
   ]
  },
  {
   "cell_type": "code",
   "execution_count": 119,
   "metadata": {},
   "outputs": [],
   "source": [
    "total_items_by_bnf_post = {}\n",
    "for key, group in list(group_by_field(joined, ('post_code', 'bnf_name')).items()):\n",
    "    items_total=sum(d['items'] for d in group)\n",
    "    total_items_by_bnf_post[key]=items_total\n",
    "assert len(total_items_by_bnf_post) == 141196"
   ]
  },
  {
   "cell_type": "markdown",
   "metadata": {},
   "source": [
    "Now with `grouped_post_code`, let's iterate over each group and calculate the following fields for each `'post_code'`:\n",
    "1. the sum of total items for all `'bnf_name'`\n",
    "1. the most total items\n",
    "1. the `'bnf_name'` that had the most total items\n",
    "\n",
    "Once again, consider the best data structure(s) to use to represent the result. It may help to write and use a function when developing your solution."
   ]
  },
  {
   "cell_type": "code",
   "execution_count": 120,
   "metadata": {},
   "outputs": [],
   "source": [
    "total_items = []\n",
    "for(post_code, bnf_name), total in list(total_items_by_bnf_post.items()):\n",
    "        new_dict = {'post_code' : post_code,\n",
    "                   'bnf_name' : bnf_name,\n",
    "                   'total' : total}\n",
    "        total_items.append(new_dict)"
   ]
  },
  {
   "cell_type": "markdown",
   "metadata": {},
   "source": [
    "Now, we are ready to:\n",
    "1. calculate the ratio (the amount dispensed as proportion of total)\n",
    "1. [sort](https://docs.python.org/3/howto/sorting.html) alphabetically by the post code\n",
    "1. format the answer as a list of tuples\n",
    "1. take only the first 100 tuples\n",
    "1. submit to the grader"
   ]
  },
  {
   "cell_type": "code",
   "execution_count": 121,
   "metadata": {},
   "outputs": [],
   "source": [
    "max_item_by_post = []"
   ]
  },
  {
   "cell_type": "code",
   "execution_count": 122,
   "metadata": {},
   "outputs": [],
   "source": [
    "total_items_by_post=group_by_field(total_items, ('post_code',))\n",
    "assert len(total_items_by_post) == 118"
   ]
  },
  {
   "cell_type": "code",
   "execution_count": 123,
   "metadata": {},
   "outputs": [],
   "source": [
    "max_item_by_post = max(total_items_by_post)"
   ]
  },
  {
   "cell_type": "code",
   "execution_count": 124,
   "metadata": {},
   "outputs": [],
   "source": [
    "from operator import itemgetter\n",
    "get_total = itemgetter('total')\n",
    "max_item_by_post = []\n",
    "groups = list(total_items_by_post.values())\n",
    "for group in groups:\n",
    "    max_total = sorted(group, key=itemgetter('total'), reverse=True)[0]\n",
    "    max_item_by_post.append(max_total)"
   ]
  },
  {
   "cell_type": "code",
   "execution_count": 128,
   "metadata": {},
   "outputs": [],
   "source": [
    "max_item_by_post = [sorted(group, key=itemgetter('total'), reverse=True)[0]\n",
    "                         for group in list(total_items_by_post.values())]"
   ]
  },
  {
   "cell_type": "code",
   "execution_count": 129,
   "metadata": {},
   "outputs": [],
   "source": [
    "items_by_region = []\n",
    "for item in max_item_by_post:\n",
    "    numerator= item['total']\n",
    "    denominator=dict(items_by_post)[item['post_code']]\n",
    "    proportion=numerator/denominator\n",
    "    result=(item['post_code'], item['bnf_name'], proportion)\n",
    "    items_by_region.append(result)\n",
    "items_by_region = sorted(items_by_region)[:100]"
   ]
  },
  {
   "cell_type": "code",
   "execution_count": 130,
   "metadata": {},
   "outputs": [
    {
     "name": "stdout",
     "output_type": "stream",
     "text": [
      "==================\n",
      "Your score: 1.000\n",
      "==================\n"
     ]
    }
   ],
   "source": [
    "grader.score.pw__items_by_region(items_by_region)"
   ]
  },
  {
   "cell_type": "markdown",
   "metadata": {},
   "source": [
    "*Copyright &copy; 2021 WorldQuant University. This content is licensed solely for personal use. Redistribution or publication of this material is strictly prohibited.*"
   ]
  }
 ],
 "metadata": {
  "kernelspec": {
   "display_name": "Python 3",
   "language": "python",
   "name": "python3"
  },
  "language_info": {
   "codemirror_mode": {
    "name": "ipython",
    "version": 3
   },
   "file_extension": ".py",
   "mimetype": "text/x-python",
   "name": "python",
   "nbconvert_exporter": "python",
   "pygments_lexer": "ipython3",
   "version": "3.8.8"
  },
  "nbclean": true
 },
 "nbformat": 4,
 "nbformat_minor": 1
}
